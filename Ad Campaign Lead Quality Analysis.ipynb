{
 "cells": [
  {
   "cell_type": "code",
   "execution_count": 104,
   "metadata": {
    "id": "EKoL4IOF5-rJ"
   },
   "outputs": [],
   "source": [
    "import pandas as pd\n",
    "import matplotlib.pyplot as plt\n",
    "import seaborn as sns"
   ]
  },
  {
   "cell_type": "code",
   "execution_count": 105,
   "metadata": {
    "colab": {
     "base_uri": "https://localhost:8080/",
     "height": 469
    },
    "id": "ShGRbpZucI8V",
    "outputId": "d04e5cea-66f4-4353-dbd0-213762dace94"
   },
   "outputs": [
    {
     "data": {
      "application/vnd.google.colaboratory.intrinsic+json": {
       "type": "dataframe",
       "variable_name": "data"
      },
      "text/html": [
       "\n",
       "  <div id=\"df-8487b2d8-7f39-4a6c-a2c2-a64ece24c77e\" class=\"colab-df-container\">\n",
       "    <div>\n",
       "<style scoped>\n",
       "    .dataframe tbody tr th:only-of-type {\n",
       "        vertical-align: middle;\n",
       "    }\n",
       "\n",
       "    .dataframe tbody tr th {\n",
       "        vertical-align: top;\n",
       "    }\n",
       "\n",
       "    .dataframe thead th {\n",
       "        text-align: right;\n",
       "    }\n",
       "</style>\n",
       "<table border=\"1\" class=\"dataframe\">\n",
       "  <thead>\n",
       "    <tr style=\"text-align: right;\">\n",
       "      <th></th>\n",
       "      <th>LeadCreated</th>\n",
       "      <th>FirstName</th>\n",
       "      <th>Email</th>\n",
       "      <th>VendorLeadID</th>\n",
       "      <th>CallStatus</th>\n",
       "      <th>WidgetName</th>\n",
       "      <th>PublisherZoneName</th>\n",
       "      <th>PublisherCampaignName</th>\n",
       "      <th>AddressScore</th>\n",
       "      <th>PhoneScore</th>\n",
       "      <th>AdvertiserCampaignName</th>\n",
       "      <th>State</th>\n",
       "      <th>DebtLevel</th>\n",
       "      <th>IP Address</th>\n",
       "      <th>Partner</th>\n",
       "      <th>ReferralDomain</th>\n",
       "      <th>MarketingCampaign</th>\n",
       "      <th>AdGroup</th>\n",
       "      <th>Keyword</th>\n",
       "      <th>SearchQuery</th>\n",
       "      <th>ReferralURL</th>\n",
       "      <th>ReferralURL Parameters</th>\n",
       "      <th>LandingPageURL</th>\n",
       "      <th>Landing Page URL Parameters</th>\n",
       "    </tr>\n",
       "  </thead>\n",
       "  <tbody>\n",
       "    <tr>\n",
       "      <th>0</th>\n",
       "      <td>2009-07-01 01:24:29.563</td>\n",
       "      <td>Dorinda</td>\n",
       "      <td>kanani@sandwichisles.net</td>\n",
       "      <td>FDF81FDA-A649-437B-B99C-FDDE74F7971B</td>\n",
       "      <td>NaN</td>\n",
       "      <td>w-302252-DebtReduction1-1DC-CreditSolutions</td>\n",
       "      <td>TopLeft-302252</td>\n",
       "      <td>DebtReductionInc</td>\n",
       "      <td>NaN</td>\n",
       "      <td>5.0</td>\n",
       "      <td>creditsolutions-branded-shortform</td>\n",
       "      <td>HI</td>\n",
       "      <td>30001-50000</td>\n",
       "      <td>NaN</td>\n",
       "      <td>google</td>\n",
       "      <td>www.google.com</td>\n",
       "      <td>Debt Holding Tank</td>\n",
       "      <td>Holding Tank - Debt</td>\n",
       "      <td>Debt specialists</td>\n",
       "      <td>debt specialists</td>\n",
       "      <td>http://www.google.com/search</td>\n",
       "      <td>sourceid=navclient&amp;aq=1&amp;oq=debt sp&amp;ie=UTF-8&amp;rl...</td>\n",
       "      <td>http://www.debtreductioninc.com/index8.html</td>\n",
       "      <td>utm_source=google&amp;utm_medium=CPC&amp;utm_content=H...</td>\n",
       "    </tr>\n",
       "    <tr>\n",
       "      <th>1</th>\n",
       "      <td>2009-04-13 15:27:35.990</td>\n",
       "      <td>Presetta</td>\n",
       "      <td>clerk2@ustconline.net</td>\n",
       "      <td>4190ACB7-5026-416C-B987-ED8AD427D5E6</td>\n",
       "      <td>NaN</td>\n",
       "      <td>w-300250-DebtReduction1-1DC-Head2</td>\n",
       "      <td>TopLeft-302252</td>\n",
       "      <td>DebtReductionInc</td>\n",
       "      <td>NaN</td>\n",
       "      <td>NaN</td>\n",
       "      <td>Debt Settlement1 Master</td>\n",
       "      <td>AL</td>\n",
       "      <td>90000-100000</td>\n",
       "      <td>NaN</td>\n",
       "      <td>AdKnowledge</td>\n",
       "      <td>NaN</td>\n",
       "      <td>Financial Services</td>\n",
       "      <td>Consolidate</td>\n",
       "      <td>NaN</td>\n",
       "      <td>NaN</td>\n",
       "      <td>NaN</td>\n",
       "      <td>NaN</td>\n",
       "      <td>http://www.debtreductioninc.com/index8.html</td>\n",
       "      <td>utm_source=AdKnowledge&amp;utm_medium=CPC&amp;utm_cont...</td>\n",
       "    </tr>\n",
       "    <tr>\n",
       "      <th>2</th>\n",
       "      <td>2009-04-21 07:22:59.000</td>\n",
       "      <td>Gina</td>\n",
       "      <td>wagoner_gina@yahoo.com</td>\n",
       "      <td>hFg80jf_R0CRN55hdhWILw</td>\n",
       "      <td>Unable to contact - Bad Contact Information</td>\n",
       "      <td>w-300250-DebtReduction1-1DC-Head2</td>\n",
       "      <td>TopLeft-302252</td>\n",
       "      <td>DebtReductionInc</td>\n",
       "      <td>NaN</td>\n",
       "      <td>NaN</td>\n",
       "      <td>Debt Settlement1 Master</td>\n",
       "      <td>NY</td>\n",
       "      <td>20001-30000</td>\n",
       "      <td>NaN</td>\n",
       "      <td>AdKnowledge</td>\n",
       "      <td>us.mc582.mail.yahoo.com</td>\n",
       "      <td>Financial Services</td>\n",
       "      <td>Consolidate</td>\n",
       "      <td>NaN</td>\n",
       "      <td>NaN</td>\n",
       "      <td>http://us.mc582.mail.yahoo.com/mc/showMessage</td>\n",
       "      <td>&amp;fid=Inbox&amp;sort=date&amp;order=down&amp;startMid=0&amp;.ra...</td>\n",
       "      <td>http://www.debtreductioninc.com/index8.html</td>\n",
       "      <td>utm_source=AdKnowledge&amp;utm_medium=CPC&amp;utm_cont...</td>\n",
       "    </tr>\n",
       "    <tr>\n",
       "      <th>3</th>\n",
       "      <td>2009-08-03 19:39:02.000</td>\n",
       "      <td>Kari</td>\n",
       "      <td>usa4ley@yahoo.com</td>\n",
       "      <td>jB01QgYZxkWArI9jWxuufw</td>\n",
       "      <td>Contacted - Doesn't Qualify</td>\n",
       "      <td>w-302252-DebtReduction1-1DC-white</td>\n",
       "      <td>TopLeft-302252</td>\n",
       "      <td>DebtReductionInc</td>\n",
       "      <td>5.0</td>\n",
       "      <td>3.0</td>\n",
       "      <td>Debt Settlement1 Master</td>\n",
       "      <td>WA</td>\n",
       "      <td>20001-30000</td>\n",
       "      <td>NaN</td>\n",
       "      <td>Google</td>\n",
       "      <td>norwich.kijiji.com</td>\n",
       "      <td>DebtReductionInc</td>\n",
       "      <td>Lower Payments</td>\n",
       "      <td>NaN</td>\n",
       "      <td>NaN</td>\n",
       "      <td>http://norwich.kijiji.com/c-Cars-vehicles-Cars...</td>\n",
       "      <td>NaN</td>\n",
       "      <td>http://www.debtreductioninc.com/index12.html</td>\n",
       "      <td>utm_source=Google&amp;utm_medium=cpc&amp;utm_campaign=...</td>\n",
       "    </tr>\n",
       "    <tr>\n",
       "      <th>4</th>\n",
       "      <td>2009-04-13 10:18:37.490</td>\n",
       "      <td>Stephanie</td>\n",
       "      <td>sr1lambert@embarqmail.com</td>\n",
       "      <td>D5B32074-458E-40EC-B185-1FEF20AC626D</td>\n",
       "      <td>NaN</td>\n",
       "      <td>w-300250-DebtReduction1-1DC-BlueMeter</td>\n",
       "      <td>TopLeft-302252</td>\n",
       "      <td>DebtReductionInc</td>\n",
       "      <td>NaN</td>\n",
       "      <td>NaN</td>\n",
       "      <td>Debt Settlement1 Master</td>\n",
       "      <td>TX</td>\n",
       "      <td>More_than_100000</td>\n",
       "      <td>NaN</td>\n",
       "      <td>Google</td>\n",
       "      <td>NaN</td>\n",
       "      <td>DebtReductionInc</td>\n",
       "      <td>Debt Reduction</td>\n",
       "      <td>NaN</td>\n",
       "      <td>NaN</td>\n",
       "      <td>NaN</td>\n",
       "      <td>NaN</td>\n",
       "      <td>http://www.debtreductioninc.com/index8.html</td>\n",
       "      <td>utm_source=Google&amp;utm_medium=cpc&amp;utm_campaign=...</td>\n",
       "    </tr>\n",
       "  </tbody>\n",
       "</table>\n",
       "</div>\n",
       "    <div class=\"colab-df-buttons\">\n",
       "\n",
       "  <div class=\"colab-df-container\">\n",
       "    <button class=\"colab-df-convert\" onclick=\"convertToInteractive('df-8487b2d8-7f39-4a6c-a2c2-a64ece24c77e')\"\n",
       "            title=\"Convert this dataframe to an interactive table.\"\n",
       "            style=\"display:none;\">\n",
       "\n",
       "  <svg xmlns=\"http://www.w3.org/2000/svg\" height=\"24px\" viewBox=\"0 -960 960 960\">\n",
       "    <path d=\"M120-120v-720h720v720H120Zm60-500h600v-160H180v160Zm220 220h160v-160H400v160Zm0 220h160v-160H400v160ZM180-400h160v-160H180v160Zm440 0h160v-160H620v160ZM180-180h160v-160H180v160Zm440 0h160v-160H620v160Z\"/>\n",
       "  </svg>\n",
       "    </button>\n",
       "\n",
       "  <style>\n",
       "    .colab-df-container {\n",
       "      display:flex;\n",
       "      gap: 12px;\n",
       "    }\n",
       "\n",
       "    .colab-df-convert {\n",
       "      background-color: #E8F0FE;\n",
       "      border: none;\n",
       "      border-radius: 50%;\n",
       "      cursor: pointer;\n",
       "      display: none;\n",
       "      fill: #1967D2;\n",
       "      height: 32px;\n",
       "      padding: 0 0 0 0;\n",
       "      width: 32px;\n",
       "    }\n",
       "\n",
       "    .colab-df-convert:hover {\n",
       "      background-color: #E2EBFA;\n",
       "      box-shadow: 0px 1px 2px rgba(60, 64, 67, 0.3), 0px 1px 3px 1px rgba(60, 64, 67, 0.15);\n",
       "      fill: #174EA6;\n",
       "    }\n",
       "\n",
       "    .colab-df-buttons div {\n",
       "      margin-bottom: 4px;\n",
       "    }\n",
       "\n",
       "    [theme=dark] .colab-df-convert {\n",
       "      background-color: #3B4455;\n",
       "      fill: #D2E3FC;\n",
       "    }\n",
       "\n",
       "    [theme=dark] .colab-df-convert:hover {\n",
       "      background-color: #434B5C;\n",
       "      box-shadow: 0px 1px 3px 1px rgba(0, 0, 0, 0.15);\n",
       "      filter: drop-shadow(0px 1px 2px rgba(0, 0, 0, 0.3));\n",
       "      fill: #FFFFFF;\n",
       "    }\n",
       "  </style>\n",
       "\n",
       "    <script>\n",
       "      const buttonEl =\n",
       "        document.querySelector('#df-8487b2d8-7f39-4a6c-a2c2-a64ece24c77e button.colab-df-convert');\n",
       "      buttonEl.style.display =\n",
       "        google.colab.kernel.accessAllowed ? 'block' : 'none';\n",
       "\n",
       "      async function convertToInteractive(key) {\n",
       "        const element = document.querySelector('#df-8487b2d8-7f39-4a6c-a2c2-a64ece24c77e');\n",
       "        const dataTable =\n",
       "          await google.colab.kernel.invokeFunction('convertToInteractive',\n",
       "                                                    [key], {});\n",
       "        if (!dataTable) return;\n",
       "\n",
       "        const docLinkHtml = 'Like what you see? Visit the ' +\n",
       "          '<a target=\"_blank\" href=https://colab.research.google.com/notebooks/data_table.ipynb>data table notebook</a>'\n",
       "          + ' to learn more about interactive tables.';\n",
       "        element.innerHTML = '';\n",
       "        dataTable['output_type'] = 'display_data';\n",
       "        await google.colab.output.renderOutput(dataTable, element);\n",
       "        const docLink = document.createElement('div');\n",
       "        docLink.innerHTML = docLinkHtml;\n",
       "        element.appendChild(docLink);\n",
       "      }\n",
       "    </script>\n",
       "  </div>\n",
       "\n",
       "\n",
       "<div id=\"df-716d7c47-20ea-4516-bf98-0e60e6207bc4\">\n",
       "  <button class=\"colab-df-quickchart\" onclick=\"quickchart('df-716d7c47-20ea-4516-bf98-0e60e6207bc4')\"\n",
       "            title=\"Suggest charts\"\n",
       "            style=\"display:none;\">\n",
       "\n",
       "<svg xmlns=\"http://www.w3.org/2000/svg\" height=\"24px\"viewBox=\"0 0 24 24\"\n",
       "     width=\"24px\">\n",
       "    <g>\n",
       "        <path d=\"M19 3H5c-1.1 0-2 .9-2 2v14c0 1.1.9 2 2 2h14c1.1 0 2-.9 2-2V5c0-1.1-.9-2-2-2zM9 17H7v-7h2v7zm4 0h-2V7h2v10zm4 0h-2v-4h2v4z\"/>\n",
       "    </g>\n",
       "</svg>\n",
       "  </button>\n",
       "\n",
       "<style>\n",
       "  .colab-df-quickchart {\n",
       "      --bg-color: #E8F0FE;\n",
       "      --fill-color: #1967D2;\n",
       "      --hover-bg-color: #E2EBFA;\n",
       "      --hover-fill-color: #174EA6;\n",
       "      --disabled-fill-color: #AAA;\n",
       "      --disabled-bg-color: #DDD;\n",
       "  }\n",
       "\n",
       "  [theme=dark] .colab-df-quickchart {\n",
       "      --bg-color: #3B4455;\n",
       "      --fill-color: #D2E3FC;\n",
       "      --hover-bg-color: #434B5C;\n",
       "      --hover-fill-color: #FFFFFF;\n",
       "      --disabled-bg-color: #3B4455;\n",
       "      --disabled-fill-color: #666;\n",
       "  }\n",
       "\n",
       "  .colab-df-quickchart {\n",
       "    background-color: var(--bg-color);\n",
       "    border: none;\n",
       "    border-radius: 50%;\n",
       "    cursor: pointer;\n",
       "    display: none;\n",
       "    fill: var(--fill-color);\n",
       "    height: 32px;\n",
       "    padding: 0;\n",
       "    width: 32px;\n",
       "  }\n",
       "\n",
       "  .colab-df-quickchart:hover {\n",
       "    background-color: var(--hover-bg-color);\n",
       "    box-shadow: 0 1px 2px rgba(60, 64, 67, 0.3), 0 1px 3px 1px rgba(60, 64, 67, 0.15);\n",
       "    fill: var(--button-hover-fill-color);\n",
       "  }\n",
       "\n",
       "  .colab-df-quickchart-complete:disabled,\n",
       "  .colab-df-quickchart-complete:disabled:hover {\n",
       "    background-color: var(--disabled-bg-color);\n",
       "    fill: var(--disabled-fill-color);\n",
       "    box-shadow: none;\n",
       "  }\n",
       "\n",
       "  .colab-df-spinner {\n",
       "    border: 2px solid var(--fill-color);\n",
       "    border-color: transparent;\n",
       "    border-bottom-color: var(--fill-color);\n",
       "    animation:\n",
       "      spin 1s steps(1) infinite;\n",
       "  }\n",
       "\n",
       "  @keyframes spin {\n",
       "    0% {\n",
       "      border-color: transparent;\n",
       "      border-bottom-color: var(--fill-color);\n",
       "      border-left-color: var(--fill-color);\n",
       "    }\n",
       "    20% {\n",
       "      border-color: transparent;\n",
       "      border-left-color: var(--fill-color);\n",
       "      border-top-color: var(--fill-color);\n",
       "    }\n",
       "    30% {\n",
       "      border-color: transparent;\n",
       "      border-left-color: var(--fill-color);\n",
       "      border-top-color: var(--fill-color);\n",
       "      border-right-color: var(--fill-color);\n",
       "    }\n",
       "    40% {\n",
       "      border-color: transparent;\n",
       "      border-right-color: var(--fill-color);\n",
       "      border-top-color: var(--fill-color);\n",
       "    }\n",
       "    60% {\n",
       "      border-color: transparent;\n",
       "      border-right-color: var(--fill-color);\n",
       "    }\n",
       "    80% {\n",
       "      border-color: transparent;\n",
       "      border-right-color: var(--fill-color);\n",
       "      border-bottom-color: var(--fill-color);\n",
       "    }\n",
       "    90% {\n",
       "      border-color: transparent;\n",
       "      border-bottom-color: var(--fill-color);\n",
       "    }\n",
       "  }\n",
       "</style>\n",
       "\n",
       "  <script>\n",
       "    async function quickchart(key) {\n",
       "      const quickchartButtonEl =\n",
       "        document.querySelector('#' + key + ' button');\n",
       "      quickchartButtonEl.disabled = true;  // To prevent multiple clicks.\n",
       "      quickchartButtonEl.classList.add('colab-df-spinner');\n",
       "      try {\n",
       "        const charts = await google.colab.kernel.invokeFunction(\n",
       "            'suggestCharts', [key], {});\n",
       "      } catch (error) {\n",
       "        console.error('Error during call to suggestCharts:', error);\n",
       "      }\n",
       "      quickchartButtonEl.classList.remove('colab-df-spinner');\n",
       "      quickchartButtonEl.classList.add('colab-df-quickchart-complete');\n",
       "    }\n",
       "    (() => {\n",
       "      let quickchartButtonEl =\n",
       "        document.querySelector('#df-716d7c47-20ea-4516-bf98-0e60e6207bc4 button');\n",
       "      quickchartButtonEl.style.display =\n",
       "        google.colab.kernel.accessAllowed ? 'block' : 'none';\n",
       "    })();\n",
       "  </script>\n",
       "</div>\n",
       "\n",
       "    </div>\n",
       "  </div>\n"
      ],
      "text/plain": [
       "              LeadCreated  FirstName                      Email  \\\n",
       "0 2009-07-01 01:24:29.563    Dorinda   kanani@sandwichisles.net   \n",
       "1 2009-04-13 15:27:35.990   Presetta      clerk2@ustconline.net   \n",
       "2 2009-04-21 07:22:59.000       Gina     wagoner_gina@yahoo.com   \n",
       "3 2009-08-03 19:39:02.000       Kari          usa4ley@yahoo.com   \n",
       "4 2009-04-13 10:18:37.490  Stephanie  sr1lambert@embarqmail.com   \n",
       "\n",
       "                           VendorLeadID  \\\n",
       "0  FDF81FDA-A649-437B-B99C-FDDE74F7971B   \n",
       "1  4190ACB7-5026-416C-B987-ED8AD427D5E6   \n",
       "2                hFg80jf_R0CRN55hdhWILw   \n",
       "3                jB01QgYZxkWArI9jWxuufw   \n",
       "4  D5B32074-458E-40EC-B185-1FEF20AC626D   \n",
       "\n",
       "                                    CallStatus  \\\n",
       "0                                          NaN   \n",
       "1                                          NaN   \n",
       "2  Unable to contact - Bad Contact Information   \n",
       "3                  Contacted - Doesn't Qualify   \n",
       "4                                          NaN   \n",
       "\n",
       "                                    WidgetName PublisherZoneName  \\\n",
       "0  w-302252-DebtReduction1-1DC-CreditSolutions    TopLeft-302252   \n",
       "1            w-300250-DebtReduction1-1DC-Head2    TopLeft-302252   \n",
       "2            w-300250-DebtReduction1-1DC-Head2    TopLeft-302252   \n",
       "3            w-302252-DebtReduction1-1DC-white    TopLeft-302252   \n",
       "4        w-300250-DebtReduction1-1DC-BlueMeter    TopLeft-302252   \n",
       "\n",
       "  PublisherCampaignName  AddressScore  PhoneScore  \\\n",
       "0      DebtReductionInc           NaN         5.0   \n",
       "1      DebtReductionInc           NaN         NaN   \n",
       "2      DebtReductionInc           NaN         NaN   \n",
       "3      DebtReductionInc           5.0         3.0   \n",
       "4      DebtReductionInc           NaN         NaN   \n",
       "\n",
       "              AdvertiserCampaignName State         DebtLevel  IP Address  \\\n",
       "0  creditsolutions-branded-shortform    HI       30001-50000         NaN   \n",
       "1            Debt Settlement1 Master    AL      90000-100000         NaN   \n",
       "2            Debt Settlement1 Master    NY       20001-30000         NaN   \n",
       "3            Debt Settlement1 Master    WA       20001-30000         NaN   \n",
       "4            Debt Settlement1 Master    TX  More_than_100000         NaN   \n",
       "\n",
       "       Partner           ReferralDomain   MarketingCampaign  \\\n",
       "0       google           www.google.com   Debt Holding Tank   \n",
       "1  AdKnowledge                      NaN  Financial Services   \n",
       "2  AdKnowledge  us.mc582.mail.yahoo.com  Financial Services   \n",
       "3       Google       norwich.kijiji.com    DebtReductionInc   \n",
       "4       Google                      NaN    DebtReductionInc   \n",
       "\n",
       "               AdGroup           Keyword       SearchQuery  \\\n",
       "0  Holding Tank - Debt  Debt specialists  debt specialists   \n",
       "1          Consolidate               NaN               NaN   \n",
       "2          Consolidate               NaN               NaN   \n",
       "3       Lower Payments               NaN               NaN   \n",
       "4       Debt Reduction               NaN               NaN   \n",
       "\n",
       "                                         ReferralURL  \\\n",
       "0                       http://www.google.com/search   \n",
       "1                                                NaN   \n",
       "2      http://us.mc582.mail.yahoo.com/mc/showMessage   \n",
       "3  http://norwich.kijiji.com/c-Cars-vehicles-Cars...   \n",
       "4                                                NaN   \n",
       "\n",
       "                              ReferralURL Parameters  \\\n",
       "0  sourceid=navclient&aq=1&oq=debt sp&ie=UTF-8&rl...   \n",
       "1                                                NaN   \n",
       "2  &fid=Inbox&sort=date&order=down&startMid=0&.ra...   \n",
       "3                                                NaN   \n",
       "4                                                NaN   \n",
       "\n",
       "                                 LandingPageURL  \\\n",
       "0   http://www.debtreductioninc.com/index8.html   \n",
       "1   http://www.debtreductioninc.com/index8.html   \n",
       "2   http://www.debtreductioninc.com/index8.html   \n",
       "3  http://www.debtreductioninc.com/index12.html   \n",
       "4   http://www.debtreductioninc.com/index8.html   \n",
       "\n",
       "                         Landing Page URL Parameters  \n",
       "0  utm_source=google&utm_medium=CPC&utm_content=H...  \n",
       "1  utm_source=AdKnowledge&utm_medium=CPC&utm_cont...  \n",
       "2  utm_source=AdKnowledge&utm_medium=CPC&utm_cont...  \n",
       "3  utm_source=Google&utm_medium=cpc&utm_campaign=...  \n",
       "4  utm_source=Google&utm_medium=cpc&utm_campaign=...  "
      ]
     },
     "execution_count": 105,
     "metadata": {},
     "output_type": "execute_result"
    }
   ],
   "source": [
    "# To load and display all columns\n",
    "pd.set_option('display.max_columns', None)\n",
    "data = pd.read_excel(\"Analyst case study dataset 1.xls\")\n",
    "data.head()"
   ]
  },
  {
   "cell_type": "markdown",
   "metadata": {
    "id": "OcmwR4mbwxAn"
   },
   "source": [
    "### The final outcome or status of each lead (what happened to it) is shown in Column E i.e Call status.\n"
   ]
  },
  {
   "cell_type": "code",
   "execution_count": 106,
   "metadata": {
    "colab": {
     "base_uri": "https://localhost:8080/"
    },
    "id": "vkhhn4t6d2lv",
    "outputId": "b92f2e96-27c1-4d2f-ae81-2bb756da3de0"
   },
   "outputs": [
    {
     "data": {
      "text/plain": [
       "(3021, 24)"
      ]
     },
     "execution_count": 106,
     "metadata": {},
     "output_type": "execute_result"
    }
   ],
   "source": [
    "data.shape"
   ]
  },
  {
   "cell_type": "markdown",
   "metadata": {
    "id": "wHsfwXeU4D0g"
   },
   "source": [
    "#### The data has 3021 rows ans 24 columns"
   ]
  },
  {
   "cell_type": "code",
   "execution_count": 107,
   "metadata": {
    "colab": {
     "base_uri": "https://localhost:8080/"
    },
    "id": "RdUkMMcKeQYf",
    "outputId": "a219c5f7-1f3e-4cc3-dbc9-1428bebce6aa"
   },
   "outputs": [
    {
     "name": "stdout",
     "output_type": "stream",
     "text": [
      "<class 'pandas.core.frame.DataFrame'>\n",
      "RangeIndex: 3021 entries, 0 to 3020\n",
      "Data columns (total 24 columns):\n",
      " #   Column                       Non-Null Count  Dtype         \n",
      "---  ------                       --------------  -----         \n",
      " 0   LeadCreated                  3021 non-null   datetime64[ns]\n",
      " 1   FirstName                    3021 non-null   object        \n",
      " 2   Email                        3021 non-null   object        \n",
      " 3   VendorLeadID                 3013 non-null   object        \n",
      " 4   CallStatus                   881 non-null    object        \n",
      " 5   WidgetName                   3021 non-null   object        \n",
      " 6   PublisherZoneName            3021 non-null   object        \n",
      " 7   PublisherCampaignName        3021 non-null   object        \n",
      " 8   AddressScore                 1171 non-null   float64       \n",
      " 9   PhoneScore                   1393 non-null   float64       \n",
      " 10  AdvertiserCampaignName       3021 non-null   object        \n",
      " 11  State                        3021 non-null   object        \n",
      " 12  DebtLevel                    3021 non-null   object        \n",
      " 13  IP Address                   0 non-null      float64       \n",
      " 14  Partner                      3021 non-null   object        \n",
      " 15  ReferralDomain               2506 non-null   object        \n",
      " 16  MarketingCampaign            2749 non-null   object        \n",
      " 17  AdGroup                      2749 non-null   object        \n",
      " 18  Keyword                      979 non-null    object        \n",
      " 19  SearchQuery                  1265 non-null   object        \n",
      " 20  ReferralURL                  2506 non-null   object        \n",
      " 21  ReferralURL Parameters       2283 non-null   object        \n",
      " 22  LandingPageURL               3021 non-null   object        \n",
      " 23  Landing Page URL Parameters  3021 non-null   object        \n",
      "dtypes: datetime64[ns](1), float64(3), object(20)\n",
      "memory usage: 566.6+ KB\n"
     ]
    }
   ],
   "source": [
    "data.info()"
   ]
  },
  {
   "cell_type": "code",
   "execution_count": 108,
   "metadata": {
    "colab": {
     "base_uri": "https://localhost:8080/",
     "height": 836
    },
    "id": "wjBJJxhevnYM",
    "outputId": "f2a9804e-3fee-4597-c858-19a7c74ab107"
   },
   "outputs": [
    {
     "data": {
      "text/html": [
       "<div>\n",
       "<style scoped>\n",
       "    .dataframe tbody tr th:only-of-type {\n",
       "        vertical-align: middle;\n",
       "    }\n",
       "\n",
       "    .dataframe tbody tr th {\n",
       "        vertical-align: top;\n",
       "    }\n",
       "\n",
       "    .dataframe thead th {\n",
       "        text-align: right;\n",
       "    }\n",
       "</style>\n",
       "<table border=\"1\" class=\"dataframe\">\n",
       "  <thead>\n",
       "    <tr style=\"text-align: right;\">\n",
       "      <th></th>\n",
       "      <th>0</th>\n",
       "    </tr>\n",
       "  </thead>\n",
       "  <tbody>\n",
       "    <tr>\n",
       "      <th>LeadCreated</th>\n",
       "      <td>2786</td>\n",
       "    </tr>\n",
       "    <tr>\n",
       "      <th>FirstName</th>\n",
       "      <td>1695</td>\n",
       "    </tr>\n",
       "    <tr>\n",
       "      <th>Email</th>\n",
       "      <td>2888</td>\n",
       "    </tr>\n",
       "    <tr>\n",
       "      <th>VendorLeadID</th>\n",
       "      <td>3012</td>\n",
       "    </tr>\n",
       "    <tr>\n",
       "      <th>CallStatus</th>\n",
       "      <td>7</td>\n",
       "    </tr>\n",
       "    <tr>\n",
       "      <th>WidgetName</th>\n",
       "      <td>14</td>\n",
       "    </tr>\n",
       "    <tr>\n",
       "      <th>PublisherZoneName</th>\n",
       "      <td>2</td>\n",
       "    </tr>\n",
       "    <tr>\n",
       "      <th>PublisherCampaignName</th>\n",
       "      <td>2</td>\n",
       "    </tr>\n",
       "    <tr>\n",
       "      <th>AddressScore</th>\n",
       "      <td>5</td>\n",
       "    </tr>\n",
       "    <tr>\n",
       "      <th>PhoneScore</th>\n",
       "      <td>5</td>\n",
       "    </tr>\n",
       "    <tr>\n",
       "      <th>AdvertiserCampaignName</th>\n",
       "      <td>2</td>\n",
       "    </tr>\n",
       "    <tr>\n",
       "      <th>State</th>\n",
       "      <td>32</td>\n",
       "    </tr>\n",
       "    <tr>\n",
       "      <th>DebtLevel</th>\n",
       "      <td>10</td>\n",
       "    </tr>\n",
       "    <tr>\n",
       "      <th>IP Address</th>\n",
       "      <td>0</td>\n",
       "    </tr>\n",
       "    <tr>\n",
       "      <th>Partner</th>\n",
       "      <td>6</td>\n",
       "    </tr>\n",
       "    <tr>\n",
       "      <th>ReferralDomain</th>\n",
       "      <td>372</td>\n",
       "    </tr>\n",
       "    <tr>\n",
       "      <th>MarketingCampaign</th>\n",
       "      <td>20</td>\n",
       "    </tr>\n",
       "    <tr>\n",
       "      <th>AdGroup</th>\n",
       "      <td>103</td>\n",
       "    </tr>\n",
       "    <tr>\n",
       "      <th>Keyword</th>\n",
       "      <td>285</td>\n",
       "    </tr>\n",
       "    <tr>\n",
       "      <th>SearchQuery</th>\n",
       "      <td>961</td>\n",
       "    </tr>\n",
       "    <tr>\n",
       "      <th>ReferralURL</th>\n",
       "      <td>670</td>\n",
       "    </tr>\n",
       "    <tr>\n",
       "      <th>ReferralURL Parameters</th>\n",
       "      <td>2199</td>\n",
       "    </tr>\n",
       "    <tr>\n",
       "      <th>LandingPageURL</th>\n",
       "      <td>5</td>\n",
       "    </tr>\n",
       "    <tr>\n",
       "      <th>Landing Page URL Parameters</th>\n",
       "      <td>1090</td>\n",
       "    </tr>\n",
       "  </tbody>\n",
       "</table>\n",
       "</div><br><label><b>dtype:</b> int64</label>"
      ],
      "text/plain": [
       "LeadCreated                    2786\n",
       "FirstName                      1695\n",
       "Email                          2888\n",
       "VendorLeadID                   3012\n",
       "CallStatus                        7\n",
       "WidgetName                       14\n",
       "PublisherZoneName                 2\n",
       "PublisherCampaignName             2\n",
       "AddressScore                      5\n",
       "PhoneScore                        5\n",
       "AdvertiserCampaignName            2\n",
       "State                            32\n",
       "DebtLevel                        10\n",
       "IP Address                        0\n",
       "Partner                           6\n",
       "ReferralDomain                  372\n",
       "MarketingCampaign                20\n",
       "AdGroup                         103\n",
       "Keyword                         285\n",
       "SearchQuery                     961\n",
       "ReferralURL                     670\n",
       "ReferralURL Parameters         2199\n",
       "LandingPageURL                    5\n",
       "Landing Page URL Parameters    1090\n",
       "dtype: int64"
      ]
     },
     "execution_count": 108,
     "metadata": {},
     "output_type": "execute_result"
    }
   ],
   "source": [
    "data.nunique()"
   ]
  },
  {
   "cell_type": "code",
   "execution_count": 109,
   "metadata": {
    "colab": {
     "base_uri": "https://localhost:8080/",
     "height": 836
    },
    "id": "_coifNIvRV48",
    "outputId": "049a0117-7752-46b0-f4f1-59cecc77e55a"
   },
   "outputs": [
    {
     "data": {
      "text/html": [
       "<div>\n",
       "<style scoped>\n",
       "    .dataframe tbody tr th:only-of-type {\n",
       "        vertical-align: middle;\n",
       "    }\n",
       "\n",
       "    .dataframe tbody tr th {\n",
       "        vertical-align: top;\n",
       "    }\n",
       "\n",
       "    .dataframe thead th {\n",
       "        text-align: right;\n",
       "    }\n",
       "</style>\n",
       "<table border=\"1\" class=\"dataframe\">\n",
       "  <thead>\n",
       "    <tr style=\"text-align: right;\">\n",
       "      <th></th>\n",
       "      <th>0</th>\n",
       "    </tr>\n",
       "  </thead>\n",
       "  <tbody>\n",
       "    <tr>\n",
       "      <th>LeadCreated</th>\n",
       "      <td>datetime64[ns]</td>\n",
       "    </tr>\n",
       "    <tr>\n",
       "      <th>FirstName</th>\n",
       "      <td>object</td>\n",
       "    </tr>\n",
       "    <tr>\n",
       "      <th>Email</th>\n",
       "      <td>object</td>\n",
       "    </tr>\n",
       "    <tr>\n",
       "      <th>VendorLeadID</th>\n",
       "      <td>object</td>\n",
       "    </tr>\n",
       "    <tr>\n",
       "      <th>CallStatus</th>\n",
       "      <td>object</td>\n",
       "    </tr>\n",
       "    <tr>\n",
       "      <th>WidgetName</th>\n",
       "      <td>object</td>\n",
       "    </tr>\n",
       "    <tr>\n",
       "      <th>PublisherZoneName</th>\n",
       "      <td>object</td>\n",
       "    </tr>\n",
       "    <tr>\n",
       "      <th>PublisherCampaignName</th>\n",
       "      <td>object</td>\n",
       "    </tr>\n",
       "    <tr>\n",
       "      <th>AddressScore</th>\n",
       "      <td>float64</td>\n",
       "    </tr>\n",
       "    <tr>\n",
       "      <th>PhoneScore</th>\n",
       "      <td>float64</td>\n",
       "    </tr>\n",
       "    <tr>\n",
       "      <th>AdvertiserCampaignName</th>\n",
       "      <td>object</td>\n",
       "    </tr>\n",
       "    <tr>\n",
       "      <th>State</th>\n",
       "      <td>object</td>\n",
       "    </tr>\n",
       "    <tr>\n",
       "      <th>DebtLevel</th>\n",
       "      <td>object</td>\n",
       "    </tr>\n",
       "    <tr>\n",
       "      <th>IP Address</th>\n",
       "      <td>float64</td>\n",
       "    </tr>\n",
       "    <tr>\n",
       "      <th>Partner</th>\n",
       "      <td>object</td>\n",
       "    </tr>\n",
       "    <tr>\n",
       "      <th>ReferralDomain</th>\n",
       "      <td>object</td>\n",
       "    </tr>\n",
       "    <tr>\n",
       "      <th>MarketingCampaign</th>\n",
       "      <td>object</td>\n",
       "    </tr>\n",
       "    <tr>\n",
       "      <th>AdGroup</th>\n",
       "      <td>object</td>\n",
       "    </tr>\n",
       "    <tr>\n",
       "      <th>Keyword</th>\n",
       "      <td>object</td>\n",
       "    </tr>\n",
       "    <tr>\n",
       "      <th>SearchQuery</th>\n",
       "      <td>object</td>\n",
       "    </tr>\n",
       "    <tr>\n",
       "      <th>ReferralURL</th>\n",
       "      <td>object</td>\n",
       "    </tr>\n",
       "    <tr>\n",
       "      <th>ReferralURL Parameters</th>\n",
       "      <td>object</td>\n",
       "    </tr>\n",
       "    <tr>\n",
       "      <th>LandingPageURL</th>\n",
       "      <td>object</td>\n",
       "    </tr>\n",
       "    <tr>\n",
       "      <th>Landing Page URL Parameters</th>\n",
       "      <td>object</td>\n",
       "    </tr>\n",
       "  </tbody>\n",
       "</table>\n",
       "</div><br><label><b>dtype:</b> object</label>"
      ],
      "text/plain": [
       "LeadCreated                    datetime64[ns]\n",
       "FirstName                              object\n",
       "Email                                  object\n",
       "VendorLeadID                           object\n",
       "CallStatus                             object\n",
       "WidgetName                             object\n",
       "PublisherZoneName                      object\n",
       "PublisherCampaignName                  object\n",
       "AddressScore                          float64\n",
       "PhoneScore                            float64\n",
       "AdvertiserCampaignName                 object\n",
       "State                                  object\n",
       "DebtLevel                              object\n",
       "IP Address                            float64\n",
       "Partner                                object\n",
       "ReferralDomain                         object\n",
       "MarketingCampaign                      object\n",
       "AdGroup                                object\n",
       "Keyword                                object\n",
       "SearchQuery                            object\n",
       "ReferralURL                            object\n",
       "ReferralURL Parameters                 object\n",
       "LandingPageURL                         object\n",
       "Landing Page URL Parameters            object\n",
       "dtype: object"
      ]
     },
     "execution_count": 109,
     "metadata": {},
     "output_type": "execute_result"
    }
   ],
   "source": [
    "data.dtypes"
   ]
  },
  {
   "cell_type": "markdown",
   "metadata": {
    "id": "3iY7RQfnRnOI"
   },
   "source": [
    "### All column data types are correct."
   ]
  },
  {
   "cell_type": "code",
   "execution_count": 110,
   "metadata": {
    "colab": {
     "base_uri": "https://localhost:8080/",
     "height": 300
    },
    "id": "pcpDUlkkeDPh",
    "outputId": "fdeabd41-b8e2-41b2-a83f-04783b352bff"
   },
   "outputs": [
    {
     "data": {
      "application/vnd.google.colaboratory.intrinsic+json": {
       "summary": "{\n  \"name\": \"data\",\n  \"rows\": 8,\n  \"fields\": [\n    {\n      \"column\": \"LeadCreated\",\n      \"properties\": {\n        \"dtype\": \"date\",\n        \"min\": \"1970-01-01 00:00:00.000003021\",\n        \"max\": \"2009-09-30 21:00:20.080000\",\n        \"num_unique_values\": 7,\n        \"samples\": [\n          \"3021\",\n          \"2009-06-25 01:25:50.416092416\",\n          \"2009-08-03 12:21:34.972999936\"\n        ],\n        \"semantic_type\": \"\",\n        \"description\": \"\"\n      }\n    },\n    {\n      \"column\": \"AddressScore\",\n      \"properties\": {\n        \"dtype\": \"number\",\n        \"std\": 412.719617700988,\n        \"min\": 1.0,\n        \"max\": 1171.0,\n        \"num_unique_values\": 6,\n        \"samples\": [\n          1171.0,\n          4.286080273270708,\n          1.3451918518698438\n        ],\n        \"semantic_type\": \"\",\n        \"description\": \"\"\n      }\n    },\n    {\n      \"column\": \"PhoneScore\",\n      \"properties\": {\n        \"dtype\": \"number\",\n        \"std\": 491.340398288882,\n        \"min\": 1.0,\n        \"max\": 1393.0,\n        \"num_unique_values\": 7,\n        \"samples\": [\n          1393.0,\n          3.903086862885858,\n          5.0\n        ],\n        \"semantic_type\": \"\",\n        \"description\": \"\"\n      }\n    },\n    {\n      \"column\": \"IP Address\",\n      \"properties\": {\n        \"dtype\": \"number\",\n        \"std\": null,\n        \"min\": 0.0,\n        \"max\": 0.0,\n        \"num_unique_values\": 1,\n        \"samples\": [\n          0.0\n        ],\n        \"semantic_type\": \"\",\n        \"description\": \"\"\n      }\n    }\n  ]\n}",
       "type": "dataframe"
      },
      "text/html": [
       "\n",
       "  <div id=\"df-0195f757-2677-4a38-80ef-192d757fef70\" class=\"colab-df-container\">\n",
       "    <div>\n",
       "<style scoped>\n",
       "    .dataframe tbody tr th:only-of-type {\n",
       "        vertical-align: middle;\n",
       "    }\n",
       "\n",
       "    .dataframe tbody tr th {\n",
       "        vertical-align: top;\n",
       "    }\n",
       "\n",
       "    .dataframe thead th {\n",
       "        text-align: right;\n",
       "    }\n",
       "</style>\n",
       "<table border=\"1\" class=\"dataframe\">\n",
       "  <thead>\n",
       "    <tr style=\"text-align: right;\">\n",
       "      <th></th>\n",
       "      <th>LeadCreated</th>\n",
       "      <th>AddressScore</th>\n",
       "      <th>PhoneScore</th>\n",
       "      <th>IP Address</th>\n",
       "    </tr>\n",
       "  </thead>\n",
       "  <tbody>\n",
       "    <tr>\n",
       "      <th>count</th>\n",
       "      <td>3021</td>\n",
       "      <td>1171.000000</td>\n",
       "      <td>1393.000000</td>\n",
       "      <td>0.0</td>\n",
       "    </tr>\n",
       "    <tr>\n",
       "      <th>mean</th>\n",
       "      <td>2009-06-25 01:25:50.416092416</td>\n",
       "      <td>4.286080</td>\n",
       "      <td>3.903087</td>\n",
       "      <td>NaN</td>\n",
       "    </tr>\n",
       "    <tr>\n",
       "      <th>min</th>\n",
       "      <td>2009-04-02 18:52:41</td>\n",
       "      <td>1.000000</td>\n",
       "      <td>1.000000</td>\n",
       "      <td>NaN</td>\n",
       "    </tr>\n",
       "    <tr>\n",
       "      <th>25%</th>\n",
       "      <td>2009-05-13 22:56:40.676999936</td>\n",
       "      <td>4.000000</td>\n",
       "      <td>3.000000</td>\n",
       "      <td>NaN</td>\n",
       "    </tr>\n",
       "    <tr>\n",
       "      <th>50%</th>\n",
       "      <td>2009-06-18 19:45:45</td>\n",
       "      <td>5.000000</td>\n",
       "      <td>4.000000</td>\n",
       "      <td>NaN</td>\n",
       "    </tr>\n",
       "    <tr>\n",
       "      <th>75%</th>\n",
       "      <td>2009-08-03 12:21:34.972999936</td>\n",
       "      <td>5.000000</td>\n",
       "      <td>5.000000</td>\n",
       "      <td>NaN</td>\n",
       "    </tr>\n",
       "    <tr>\n",
       "      <th>max</th>\n",
       "      <td>2009-09-30 21:00:20.080000</td>\n",
       "      <td>5.000000</td>\n",
       "      <td>5.000000</td>\n",
       "      <td>NaN</td>\n",
       "    </tr>\n",
       "    <tr>\n",
       "      <th>std</th>\n",
       "      <td>NaN</td>\n",
       "      <td>1.345192</td>\n",
       "      <td>1.101826</td>\n",
       "      <td>NaN</td>\n",
       "    </tr>\n",
       "  </tbody>\n",
       "</table>\n",
       "</div>\n",
       "    <div class=\"colab-df-buttons\">\n",
       "\n",
       "  <div class=\"colab-df-container\">\n",
       "    <button class=\"colab-df-convert\" onclick=\"convertToInteractive('df-0195f757-2677-4a38-80ef-192d757fef70')\"\n",
       "            title=\"Convert this dataframe to an interactive table.\"\n",
       "            style=\"display:none;\">\n",
       "\n",
       "  <svg xmlns=\"http://www.w3.org/2000/svg\" height=\"24px\" viewBox=\"0 -960 960 960\">\n",
       "    <path d=\"M120-120v-720h720v720H120Zm60-500h600v-160H180v160Zm220 220h160v-160H400v160Zm0 220h160v-160H400v160ZM180-400h160v-160H180v160Zm440 0h160v-160H620v160ZM180-180h160v-160H180v160Zm440 0h160v-160H620v160Z\"/>\n",
       "  </svg>\n",
       "    </button>\n",
       "\n",
       "  <style>\n",
       "    .colab-df-container {\n",
       "      display:flex;\n",
       "      gap: 12px;\n",
       "    }\n",
       "\n",
       "    .colab-df-convert {\n",
       "      background-color: #E8F0FE;\n",
       "      border: none;\n",
       "      border-radius: 50%;\n",
       "      cursor: pointer;\n",
       "      display: none;\n",
       "      fill: #1967D2;\n",
       "      height: 32px;\n",
       "      padding: 0 0 0 0;\n",
       "      width: 32px;\n",
       "    }\n",
       "\n",
       "    .colab-df-convert:hover {\n",
       "      background-color: #E2EBFA;\n",
       "      box-shadow: 0px 1px 2px rgba(60, 64, 67, 0.3), 0px 1px 3px 1px rgba(60, 64, 67, 0.15);\n",
       "      fill: #174EA6;\n",
       "    }\n",
       "\n",
       "    .colab-df-buttons div {\n",
       "      margin-bottom: 4px;\n",
       "    }\n",
       "\n",
       "    [theme=dark] .colab-df-convert {\n",
       "      background-color: #3B4455;\n",
       "      fill: #D2E3FC;\n",
       "    }\n",
       "\n",
       "    [theme=dark] .colab-df-convert:hover {\n",
       "      background-color: #434B5C;\n",
       "      box-shadow: 0px 1px 3px 1px rgba(0, 0, 0, 0.15);\n",
       "      filter: drop-shadow(0px 1px 2px rgba(0, 0, 0, 0.3));\n",
       "      fill: #FFFFFF;\n",
       "    }\n",
       "  </style>\n",
       "\n",
       "    <script>\n",
       "      const buttonEl =\n",
       "        document.querySelector('#df-0195f757-2677-4a38-80ef-192d757fef70 button.colab-df-convert');\n",
       "      buttonEl.style.display =\n",
       "        google.colab.kernel.accessAllowed ? 'block' : 'none';\n",
       "\n",
       "      async function convertToInteractive(key) {\n",
       "        const element = document.querySelector('#df-0195f757-2677-4a38-80ef-192d757fef70');\n",
       "        const dataTable =\n",
       "          await google.colab.kernel.invokeFunction('convertToInteractive',\n",
       "                                                    [key], {});\n",
       "        if (!dataTable) return;\n",
       "\n",
       "        const docLinkHtml = 'Like what you see? Visit the ' +\n",
       "          '<a target=\"_blank\" href=https://colab.research.google.com/notebooks/data_table.ipynb>data table notebook</a>'\n",
       "          + ' to learn more about interactive tables.';\n",
       "        element.innerHTML = '';\n",
       "        dataTable['output_type'] = 'display_data';\n",
       "        await google.colab.output.renderOutput(dataTable, element);\n",
       "        const docLink = document.createElement('div');\n",
       "        docLink.innerHTML = docLinkHtml;\n",
       "        element.appendChild(docLink);\n",
       "      }\n",
       "    </script>\n",
       "  </div>\n",
       "\n",
       "\n",
       "<div id=\"df-595a1354-cfd9-4747-ae9d-1c9752012ab7\">\n",
       "  <button class=\"colab-df-quickchart\" onclick=\"quickchart('df-595a1354-cfd9-4747-ae9d-1c9752012ab7')\"\n",
       "            title=\"Suggest charts\"\n",
       "            style=\"display:none;\">\n",
       "\n",
       "<svg xmlns=\"http://www.w3.org/2000/svg\" height=\"24px\"viewBox=\"0 0 24 24\"\n",
       "     width=\"24px\">\n",
       "    <g>\n",
       "        <path d=\"M19 3H5c-1.1 0-2 .9-2 2v14c0 1.1.9 2 2 2h14c1.1 0 2-.9 2-2V5c0-1.1-.9-2-2-2zM9 17H7v-7h2v7zm4 0h-2V7h2v10zm4 0h-2v-4h2v4z\"/>\n",
       "    </g>\n",
       "</svg>\n",
       "  </button>\n",
       "\n",
       "<style>\n",
       "  .colab-df-quickchart {\n",
       "      --bg-color: #E8F0FE;\n",
       "      --fill-color: #1967D2;\n",
       "      --hover-bg-color: #E2EBFA;\n",
       "      --hover-fill-color: #174EA6;\n",
       "      --disabled-fill-color: #AAA;\n",
       "      --disabled-bg-color: #DDD;\n",
       "  }\n",
       "\n",
       "  [theme=dark] .colab-df-quickchart {\n",
       "      --bg-color: #3B4455;\n",
       "      --fill-color: #D2E3FC;\n",
       "      --hover-bg-color: #434B5C;\n",
       "      --hover-fill-color: #FFFFFF;\n",
       "      --disabled-bg-color: #3B4455;\n",
       "      --disabled-fill-color: #666;\n",
       "  }\n",
       "\n",
       "  .colab-df-quickchart {\n",
       "    background-color: var(--bg-color);\n",
       "    border: none;\n",
       "    border-radius: 50%;\n",
       "    cursor: pointer;\n",
       "    display: none;\n",
       "    fill: var(--fill-color);\n",
       "    height: 32px;\n",
       "    padding: 0;\n",
       "    width: 32px;\n",
       "  }\n",
       "\n",
       "  .colab-df-quickchart:hover {\n",
       "    background-color: var(--hover-bg-color);\n",
       "    box-shadow: 0 1px 2px rgba(60, 64, 67, 0.3), 0 1px 3px 1px rgba(60, 64, 67, 0.15);\n",
       "    fill: var(--button-hover-fill-color);\n",
       "  }\n",
       "\n",
       "  .colab-df-quickchart-complete:disabled,\n",
       "  .colab-df-quickchart-complete:disabled:hover {\n",
       "    background-color: var(--disabled-bg-color);\n",
       "    fill: var(--disabled-fill-color);\n",
       "    box-shadow: none;\n",
       "  }\n",
       "\n",
       "  .colab-df-spinner {\n",
       "    border: 2px solid var(--fill-color);\n",
       "    border-color: transparent;\n",
       "    border-bottom-color: var(--fill-color);\n",
       "    animation:\n",
       "      spin 1s steps(1) infinite;\n",
       "  }\n",
       "\n",
       "  @keyframes spin {\n",
       "    0% {\n",
       "      border-color: transparent;\n",
       "      border-bottom-color: var(--fill-color);\n",
       "      border-left-color: var(--fill-color);\n",
       "    }\n",
       "    20% {\n",
       "      border-color: transparent;\n",
       "      border-left-color: var(--fill-color);\n",
       "      border-top-color: var(--fill-color);\n",
       "    }\n",
       "    30% {\n",
       "      border-color: transparent;\n",
       "      border-left-color: var(--fill-color);\n",
       "      border-top-color: var(--fill-color);\n",
       "      border-right-color: var(--fill-color);\n",
       "    }\n",
       "    40% {\n",
       "      border-color: transparent;\n",
       "      border-right-color: var(--fill-color);\n",
       "      border-top-color: var(--fill-color);\n",
       "    }\n",
       "    60% {\n",
       "      border-color: transparent;\n",
       "      border-right-color: var(--fill-color);\n",
       "    }\n",
       "    80% {\n",
       "      border-color: transparent;\n",
       "      border-right-color: var(--fill-color);\n",
       "      border-bottom-color: var(--fill-color);\n",
       "    }\n",
       "    90% {\n",
       "      border-color: transparent;\n",
       "      border-bottom-color: var(--fill-color);\n",
       "    }\n",
       "  }\n",
       "</style>\n",
       "\n",
       "  <script>\n",
       "    async function quickchart(key) {\n",
       "      const quickchartButtonEl =\n",
       "        document.querySelector('#' + key + ' button');\n",
       "      quickchartButtonEl.disabled = true;  // To prevent multiple clicks.\n",
       "      quickchartButtonEl.classList.add('colab-df-spinner');\n",
       "      try {\n",
       "        const charts = await google.colab.kernel.invokeFunction(\n",
       "            'suggestCharts', [key], {});\n",
       "      } catch (error) {\n",
       "        console.error('Error during call to suggestCharts:', error);\n",
       "      }\n",
       "      quickchartButtonEl.classList.remove('colab-df-spinner');\n",
       "      quickchartButtonEl.classList.add('colab-df-quickchart-complete');\n",
       "    }\n",
       "    (() => {\n",
       "      let quickchartButtonEl =\n",
       "        document.querySelector('#df-595a1354-cfd9-4747-ae9d-1c9752012ab7 button');\n",
       "      quickchartButtonEl.style.display =\n",
       "        google.colab.kernel.accessAllowed ? 'block' : 'none';\n",
       "    })();\n",
       "  </script>\n",
       "</div>\n",
       "\n",
       "    </div>\n",
       "  </div>\n"
      ],
      "text/plain": [
       "                         LeadCreated  AddressScore   PhoneScore  IP Address\n",
       "count                           3021   1171.000000  1393.000000         0.0\n",
       "mean   2009-06-25 01:25:50.416092416      4.286080     3.903087         NaN\n",
       "min              2009-04-02 18:52:41      1.000000     1.000000         NaN\n",
       "25%    2009-05-13 22:56:40.676999936      4.000000     3.000000         NaN\n",
       "50%              2009-06-18 19:45:45      5.000000     4.000000         NaN\n",
       "75%    2009-08-03 12:21:34.972999936      5.000000     5.000000         NaN\n",
       "max       2009-09-30 21:00:20.080000      5.000000     5.000000         NaN\n",
       "std                              NaN      1.345192     1.101826         NaN"
      ]
     },
     "execution_count": 110,
     "metadata": {},
     "output_type": "execute_result"
    }
   ],
   "source": [
    "data.describe()"
   ]
  },
  {
   "cell_type": "code",
   "execution_count": 111,
   "metadata": {
    "colab": {
     "base_uri": "https://localhost:8080/",
     "height": 264
    },
    "id": "A34MakK9ecH9",
    "outputId": "52324a17-bd39-4334-ba09-f9fc1e362a16"
   },
   "outputs": [
    {
     "data": {
      "application/vnd.google.colaboratory.intrinsic+json": {
       "summary": "{\n  \"name\": \"data\",\n  \"rows\": 4,\n  \"fields\": [\n    {\n      \"column\": \"FirstName\",\n      \"properties\": {\n        \"dtype\": \"string\",\n        \"num_unique_values\": 4,\n        \"samples\": [\n          1695,\n          \"26\",\n          \"3021\"\n        ],\n        \"semantic_type\": \"\",\n        \"description\": \"\"\n      }\n    },\n    {\n      \"column\": \"Email\",\n      \"properties\": {\n        \"dtype\": \"string\",\n        \"num_unique_values\": 4,\n        \"samples\": [\n          2888,\n          \"41\",\n          \"3021\"\n        ],\n        \"semantic_type\": \"\",\n        \"description\": \"\"\n      }\n    },\n    {\n      \"column\": \"VendorLeadID\",\n      \"properties\": {\n        \"dtype\": \"string\",\n        \"num_unique_values\": 4,\n        \"samples\": [\n          3012,\n          \"2\",\n          \"3013\"\n        ],\n        \"semantic_type\": \"\",\n        \"description\": \"\"\n      }\n    },\n    {\n      \"column\": \"CallStatus\",\n      \"properties\": {\n        \"dtype\": \"string\",\n        \"num_unique_values\": 4,\n        \"samples\": [\n          7,\n          \"245\",\n          \"881\"\n        ],\n        \"semantic_type\": \"\",\n        \"description\": \"\"\n      }\n    },\n    {\n      \"column\": \"WidgetName\",\n      \"properties\": {\n        \"dtype\": \"string\",\n        \"num_unique_values\": 4,\n        \"samples\": [\n          14,\n          \"1054\",\n          \"3021\"\n        ],\n        \"semantic_type\": \"\",\n        \"description\": \"\"\n      }\n    },\n    {\n      \"column\": \"PublisherZoneName\",\n      \"properties\": {\n        \"dtype\": \"string\",\n        \"num_unique_values\": 4,\n        \"samples\": [\n          2,\n          \"2750\",\n          \"3021\"\n        ],\n        \"semantic_type\": \"\",\n        \"description\": \"\"\n      }\n    },\n    {\n      \"column\": \"PublisherCampaignName\",\n      \"properties\": {\n        \"dtype\": \"string\",\n        \"num_unique_values\": 4,\n        \"samples\": [\n          2,\n          \"2750\",\n          \"3021\"\n        ],\n        \"semantic_type\": \"\",\n        \"description\": \"\"\n      }\n    },\n    {\n      \"column\": \"AdvertiserCampaignName\",\n      \"properties\": {\n        \"dtype\": \"string\",\n        \"num_unique_values\": 4,\n        \"samples\": [\n          2,\n          \"1815\",\n          \"3021\"\n        ],\n        \"semantic_type\": \"\",\n        \"description\": \"\"\n      }\n    },\n    {\n      \"column\": \"State\",\n      \"properties\": {\n        \"dtype\": \"string\",\n        \"num_unique_values\": 4,\n        \"samples\": [\n          32,\n          \"463\",\n          \"3021\"\n        ],\n        \"semantic_type\": \"\",\n        \"description\": \"\"\n      }\n    },\n    {\n      \"column\": \"DebtLevel\",\n      \"properties\": {\n        \"dtype\": \"string\",\n        \"num_unique_values\": 4,\n        \"samples\": [\n          10,\n          \"496\",\n          \"3021\"\n        ],\n        \"semantic_type\": \"\",\n        \"description\": \"\"\n      }\n    },\n    {\n      \"column\": \"Partner\",\n      \"properties\": {\n        \"dtype\": \"string\",\n        \"num_unique_values\": 4,\n        \"samples\": [\n          6,\n          \"979\",\n          \"3021\"\n        ],\n        \"semantic_type\": \"\",\n        \"description\": \"\"\n      }\n    },\n    {\n      \"column\": \"ReferralDomain\",\n      \"properties\": {\n        \"dtype\": \"string\",\n        \"num_unique_values\": 4,\n        \"samples\": [\n          372,\n          \"573\",\n          \"2506\"\n        ],\n        \"semantic_type\": \"\",\n        \"description\": \"\"\n      }\n    },\n    {\n      \"column\": \"MarketingCampaign\",\n      \"properties\": {\n        \"dtype\": \"string\",\n        \"num_unique_values\": 4,\n        \"samples\": [\n          20,\n          \"1473\",\n          \"2749\"\n        ],\n        \"semantic_type\": \"\",\n        \"description\": \"\"\n      }\n    },\n    {\n      \"column\": \"AdGroup\",\n      \"properties\": {\n        \"dtype\": \"string\",\n        \"num_unique_values\": 4,\n        \"samples\": [\n          103,\n          \"360\",\n          \"2749\"\n        ],\n        \"semantic_type\": \"\",\n        \"description\": \"\"\n      }\n    },\n    {\n      \"column\": \"Keyword\",\n      \"properties\": {\n        \"dtype\": \"string\",\n        \"num_unique_values\": 4,\n        \"samples\": [\n          285,\n          \"104\",\n          \"979\"\n        ],\n        \"semantic_type\": \"\",\n        \"description\": \"\"\n      }\n    },\n    {\n      \"column\": \"SearchQuery\",\n      \"properties\": {\n        \"dtype\": \"string\",\n        \"num_unique_values\": 4,\n        \"samples\": [\n          961,\n          \"27\",\n          \"1265\"\n        ],\n        \"semantic_type\": \"\",\n        \"description\": \"\"\n      }\n    },\n    {\n      \"column\": \"ReferralURL\",\n      \"properties\": {\n        \"dtype\": \"string\",\n        \"num_unique_values\": 4,\n        \"samples\": [\n          670,\n          \"453\",\n          \"2506\"\n        ],\n        \"semantic_type\": \"\",\n        \"description\": \"\"\n      }\n    },\n    {\n      \"column\": \"ReferralURL Parameters\",\n      \"properties\": {\n        \"dtype\": \"string\",\n        \"num_unique_values\": 4,\n        \"samples\": [\n          2199,\n          \"19\",\n          \"2283\"\n        ],\n        \"semantic_type\": \"\",\n        \"description\": \"\"\n      }\n    },\n    {\n      \"column\": \"LandingPageURL\",\n      \"properties\": {\n        \"dtype\": \"string\",\n        \"num_unique_values\": 4,\n        \"samples\": [\n          5,\n          \"2540\",\n          \"3021\"\n        ],\n        \"semantic_type\": \"\",\n        \"description\": \"\"\n      }\n    },\n    {\n      \"column\": \"Landing Page URL Parameters\",\n      \"properties\": {\n        \"dtype\": \"string\",\n        \"num_unique_values\": 4,\n        \"samples\": [\n          1090,\n          \"271\",\n          \"3021\"\n        ],\n        \"semantic_type\": \"\",\n        \"description\": \"\"\n      }\n    }\n  ]\n}",
       "type": "dataframe"
      },
      "text/html": [
       "\n",
       "  <div id=\"df-abf1e8d1-4982-477f-a043-9e6277114d2a\" class=\"colab-df-container\">\n",
       "    <div>\n",
       "<style scoped>\n",
       "    .dataframe tbody tr th:only-of-type {\n",
       "        vertical-align: middle;\n",
       "    }\n",
       "\n",
       "    .dataframe tbody tr th {\n",
       "        vertical-align: top;\n",
       "    }\n",
       "\n",
       "    .dataframe thead th {\n",
       "        text-align: right;\n",
       "    }\n",
       "</style>\n",
       "<table border=\"1\" class=\"dataframe\">\n",
       "  <thead>\n",
       "    <tr style=\"text-align: right;\">\n",
       "      <th></th>\n",
       "      <th>FirstName</th>\n",
       "      <th>Email</th>\n",
       "      <th>VendorLeadID</th>\n",
       "      <th>CallStatus</th>\n",
       "      <th>WidgetName</th>\n",
       "      <th>PublisherZoneName</th>\n",
       "      <th>PublisherCampaignName</th>\n",
       "      <th>AdvertiserCampaignName</th>\n",
       "      <th>State</th>\n",
       "      <th>DebtLevel</th>\n",
       "      <th>Partner</th>\n",
       "      <th>ReferralDomain</th>\n",
       "      <th>MarketingCampaign</th>\n",
       "      <th>AdGroup</th>\n",
       "      <th>Keyword</th>\n",
       "      <th>SearchQuery</th>\n",
       "      <th>ReferralURL</th>\n",
       "      <th>ReferralURL Parameters</th>\n",
       "      <th>LandingPageURL</th>\n",
       "      <th>Landing Page URL Parameters</th>\n",
       "    </tr>\n",
       "  </thead>\n",
       "  <tbody>\n",
       "    <tr>\n",
       "      <th>count</th>\n",
       "      <td>3021</td>\n",
       "      <td>3021</td>\n",
       "      <td>3013</td>\n",
       "      <td>881</td>\n",
       "      <td>3021</td>\n",
       "      <td>3021</td>\n",
       "      <td>3021</td>\n",
       "      <td>3021</td>\n",
       "      <td>3021</td>\n",
       "      <td>3021</td>\n",
       "      <td>3021</td>\n",
       "      <td>2506</td>\n",
       "      <td>2749</td>\n",
       "      <td>2749</td>\n",
       "      <td>979</td>\n",
       "      <td>1265</td>\n",
       "      <td>2506</td>\n",
       "      <td>2283</td>\n",
       "      <td>3021</td>\n",
       "      <td>3021</td>\n",
       "    </tr>\n",
       "    <tr>\n",
       "      <th>unique</th>\n",
       "      <td>1695</td>\n",
       "      <td>2888</td>\n",
       "      <td>3012</td>\n",
       "      <td>7</td>\n",
       "      <td>14</td>\n",
       "      <td>2</td>\n",
       "      <td>2</td>\n",
       "      <td>2</td>\n",
       "      <td>32</td>\n",
       "      <td>10</td>\n",
       "      <td>6</td>\n",
       "      <td>372</td>\n",
       "      <td>20</td>\n",
       "      <td>103</td>\n",
       "      <td>285</td>\n",
       "      <td>961</td>\n",
       "      <td>670</td>\n",
       "      <td>2199</td>\n",
       "      <td>5</td>\n",
       "      <td>1090</td>\n",
       "    </tr>\n",
       "    <tr>\n",
       "      <th>top</th>\n",
       "      <td>James</td>\n",
       "      <td>none@none.com</td>\n",
       "      <td>33469916-C227-4A8F-BAAB-D70F7974315B</td>\n",
       "      <td>Closed</td>\n",
       "      <td>w-302252-DebtReduction1-1DC-CreditSolutions</td>\n",
       "      <td>TopLeft-302252</td>\n",
       "      <td>DebtReductionInc</td>\n",
       "      <td>Debt Settlement1 Master</td>\n",
       "      <td>CA</td>\n",
       "      <td>30001-50000</td>\n",
       "      <td>google</td>\n",
       "      <td>search.yahoo.com</td>\n",
       "      <td>DebtReductionInc</td>\n",
       "      <td>Student Debt</td>\n",
       "      <td>Credit card payments</td>\n",
       "      <td>debt consolidation</td>\n",
       "      <td>http://www.google.com/search</td>\n",
       "      <td>_IceUrl=true</td>\n",
       "      <td>http://www.debtreductioninc.com/index8.html</td>\n",
       "      <td>utm_source=Call_Center</td>\n",
       "    </tr>\n",
       "    <tr>\n",
       "      <th>freq</th>\n",
       "      <td>26</td>\n",
       "      <td>41</td>\n",
       "      <td>2</td>\n",
       "      <td>245</td>\n",
       "      <td>1054</td>\n",
       "      <td>2750</td>\n",
       "      <td>2750</td>\n",
       "      <td>1815</td>\n",
       "      <td>463</td>\n",
       "      <td>496</td>\n",
       "      <td>979</td>\n",
       "      <td>573</td>\n",
       "      <td>1473</td>\n",
       "      <td>360</td>\n",
       "      <td>104</td>\n",
       "      <td>27</td>\n",
       "      <td>453</td>\n",
       "      <td>19</td>\n",
       "      <td>2540</td>\n",
       "      <td>271</td>\n",
       "    </tr>\n",
       "  </tbody>\n",
       "</table>\n",
       "</div>\n",
       "    <div class=\"colab-df-buttons\">\n",
       "\n",
       "  <div class=\"colab-df-container\">\n",
       "    <button class=\"colab-df-convert\" onclick=\"convertToInteractive('df-abf1e8d1-4982-477f-a043-9e6277114d2a')\"\n",
       "            title=\"Convert this dataframe to an interactive table.\"\n",
       "            style=\"display:none;\">\n",
       "\n",
       "  <svg xmlns=\"http://www.w3.org/2000/svg\" height=\"24px\" viewBox=\"0 -960 960 960\">\n",
       "    <path d=\"M120-120v-720h720v720H120Zm60-500h600v-160H180v160Zm220 220h160v-160H400v160Zm0 220h160v-160H400v160ZM180-400h160v-160H180v160Zm440 0h160v-160H620v160ZM180-180h160v-160H180v160Zm440 0h160v-160H620v160Z\"/>\n",
       "  </svg>\n",
       "    </button>\n",
       "\n",
       "  <style>\n",
       "    .colab-df-container {\n",
       "      display:flex;\n",
       "      gap: 12px;\n",
       "    }\n",
       "\n",
       "    .colab-df-convert {\n",
       "      background-color: #E8F0FE;\n",
       "      border: none;\n",
       "      border-radius: 50%;\n",
       "      cursor: pointer;\n",
       "      display: none;\n",
       "      fill: #1967D2;\n",
       "      height: 32px;\n",
       "      padding: 0 0 0 0;\n",
       "      width: 32px;\n",
       "    }\n",
       "\n",
       "    .colab-df-convert:hover {\n",
       "      background-color: #E2EBFA;\n",
       "      box-shadow: 0px 1px 2px rgba(60, 64, 67, 0.3), 0px 1px 3px 1px rgba(60, 64, 67, 0.15);\n",
       "      fill: #174EA6;\n",
       "    }\n",
       "\n",
       "    .colab-df-buttons div {\n",
       "      margin-bottom: 4px;\n",
       "    }\n",
       "\n",
       "    [theme=dark] .colab-df-convert {\n",
       "      background-color: #3B4455;\n",
       "      fill: #D2E3FC;\n",
       "    }\n",
       "\n",
       "    [theme=dark] .colab-df-convert:hover {\n",
       "      background-color: #434B5C;\n",
       "      box-shadow: 0px 1px 3px 1px rgba(0, 0, 0, 0.15);\n",
       "      filter: drop-shadow(0px 1px 2px rgba(0, 0, 0, 0.3));\n",
       "      fill: #FFFFFF;\n",
       "    }\n",
       "  </style>\n",
       "\n",
       "    <script>\n",
       "      const buttonEl =\n",
       "        document.querySelector('#df-abf1e8d1-4982-477f-a043-9e6277114d2a button.colab-df-convert');\n",
       "      buttonEl.style.display =\n",
       "        google.colab.kernel.accessAllowed ? 'block' : 'none';\n",
       "\n",
       "      async function convertToInteractive(key) {\n",
       "        const element = document.querySelector('#df-abf1e8d1-4982-477f-a043-9e6277114d2a');\n",
       "        const dataTable =\n",
       "          await google.colab.kernel.invokeFunction('convertToInteractive',\n",
       "                                                    [key], {});\n",
       "        if (!dataTable) return;\n",
       "\n",
       "        const docLinkHtml = 'Like what you see? Visit the ' +\n",
       "          '<a target=\"_blank\" href=https://colab.research.google.com/notebooks/data_table.ipynb>data table notebook</a>'\n",
       "          + ' to learn more about interactive tables.';\n",
       "        element.innerHTML = '';\n",
       "        dataTable['output_type'] = 'display_data';\n",
       "        await google.colab.output.renderOutput(dataTable, element);\n",
       "        const docLink = document.createElement('div');\n",
       "        docLink.innerHTML = docLinkHtml;\n",
       "        element.appendChild(docLink);\n",
       "      }\n",
       "    </script>\n",
       "  </div>\n",
       "\n",
       "\n",
       "<div id=\"df-a1fbb221-0a46-4714-87e3-d52d735f94e1\">\n",
       "  <button class=\"colab-df-quickchart\" onclick=\"quickchart('df-a1fbb221-0a46-4714-87e3-d52d735f94e1')\"\n",
       "            title=\"Suggest charts\"\n",
       "            style=\"display:none;\">\n",
       "\n",
       "<svg xmlns=\"http://www.w3.org/2000/svg\" height=\"24px\"viewBox=\"0 0 24 24\"\n",
       "     width=\"24px\">\n",
       "    <g>\n",
       "        <path d=\"M19 3H5c-1.1 0-2 .9-2 2v14c0 1.1.9 2 2 2h14c1.1 0 2-.9 2-2V5c0-1.1-.9-2-2-2zM9 17H7v-7h2v7zm4 0h-2V7h2v10zm4 0h-2v-4h2v4z\"/>\n",
       "    </g>\n",
       "</svg>\n",
       "  </button>\n",
       "\n",
       "<style>\n",
       "  .colab-df-quickchart {\n",
       "      --bg-color: #E8F0FE;\n",
       "      --fill-color: #1967D2;\n",
       "      --hover-bg-color: #E2EBFA;\n",
       "      --hover-fill-color: #174EA6;\n",
       "      --disabled-fill-color: #AAA;\n",
       "      --disabled-bg-color: #DDD;\n",
       "  }\n",
       "\n",
       "  [theme=dark] .colab-df-quickchart {\n",
       "      --bg-color: #3B4455;\n",
       "      --fill-color: #D2E3FC;\n",
       "      --hover-bg-color: #434B5C;\n",
       "      --hover-fill-color: #FFFFFF;\n",
       "      --disabled-bg-color: #3B4455;\n",
       "      --disabled-fill-color: #666;\n",
       "  }\n",
       "\n",
       "  .colab-df-quickchart {\n",
       "    background-color: var(--bg-color);\n",
       "    border: none;\n",
       "    border-radius: 50%;\n",
       "    cursor: pointer;\n",
       "    display: none;\n",
       "    fill: var(--fill-color);\n",
       "    height: 32px;\n",
       "    padding: 0;\n",
       "    width: 32px;\n",
       "  }\n",
       "\n",
       "  .colab-df-quickchart:hover {\n",
       "    background-color: var(--hover-bg-color);\n",
       "    box-shadow: 0 1px 2px rgba(60, 64, 67, 0.3), 0 1px 3px 1px rgba(60, 64, 67, 0.15);\n",
       "    fill: var(--button-hover-fill-color);\n",
       "  }\n",
       "\n",
       "  .colab-df-quickchart-complete:disabled,\n",
       "  .colab-df-quickchart-complete:disabled:hover {\n",
       "    background-color: var(--disabled-bg-color);\n",
       "    fill: var(--disabled-fill-color);\n",
       "    box-shadow: none;\n",
       "  }\n",
       "\n",
       "  .colab-df-spinner {\n",
       "    border: 2px solid var(--fill-color);\n",
       "    border-color: transparent;\n",
       "    border-bottom-color: var(--fill-color);\n",
       "    animation:\n",
       "      spin 1s steps(1) infinite;\n",
       "  }\n",
       "\n",
       "  @keyframes spin {\n",
       "    0% {\n",
       "      border-color: transparent;\n",
       "      border-bottom-color: var(--fill-color);\n",
       "      border-left-color: var(--fill-color);\n",
       "    }\n",
       "    20% {\n",
       "      border-color: transparent;\n",
       "      border-left-color: var(--fill-color);\n",
       "      border-top-color: var(--fill-color);\n",
       "    }\n",
       "    30% {\n",
       "      border-color: transparent;\n",
       "      border-left-color: var(--fill-color);\n",
       "      border-top-color: var(--fill-color);\n",
       "      border-right-color: var(--fill-color);\n",
       "    }\n",
       "    40% {\n",
       "      border-color: transparent;\n",
       "      border-right-color: var(--fill-color);\n",
       "      border-top-color: var(--fill-color);\n",
       "    }\n",
       "    60% {\n",
       "      border-color: transparent;\n",
       "      border-right-color: var(--fill-color);\n",
       "    }\n",
       "    80% {\n",
       "      border-color: transparent;\n",
       "      border-right-color: var(--fill-color);\n",
       "      border-bottom-color: var(--fill-color);\n",
       "    }\n",
       "    90% {\n",
       "      border-color: transparent;\n",
       "      border-bottom-color: var(--fill-color);\n",
       "    }\n",
       "  }\n",
       "</style>\n",
       "\n",
       "  <script>\n",
       "    async function quickchart(key) {\n",
       "      const quickchartButtonEl =\n",
       "        document.querySelector('#' + key + ' button');\n",
       "      quickchartButtonEl.disabled = true;  // To prevent multiple clicks.\n",
       "      quickchartButtonEl.classList.add('colab-df-spinner');\n",
       "      try {\n",
       "        const charts = await google.colab.kernel.invokeFunction(\n",
       "            'suggestCharts', [key], {});\n",
       "      } catch (error) {\n",
       "        console.error('Error during call to suggestCharts:', error);\n",
       "      }\n",
       "      quickchartButtonEl.classList.remove('colab-df-spinner');\n",
       "      quickchartButtonEl.classList.add('colab-df-quickchart-complete');\n",
       "    }\n",
       "    (() => {\n",
       "      let quickchartButtonEl =\n",
       "        document.querySelector('#df-a1fbb221-0a46-4714-87e3-d52d735f94e1 button');\n",
       "      quickchartButtonEl.style.display =\n",
       "        google.colab.kernel.accessAllowed ? 'block' : 'none';\n",
       "    })();\n",
       "  </script>\n",
       "</div>\n",
       "\n",
       "    </div>\n",
       "  </div>\n"
      ],
      "text/plain": [
       "       FirstName          Email                          VendorLeadID  \\\n",
       "count       3021           3021                                  3013   \n",
       "unique      1695           2888                                  3012   \n",
       "top        James  none@none.com  33469916-C227-4A8F-BAAB-D70F7974315B   \n",
       "freq          26             41                                     2   \n",
       "\n",
       "       CallStatus                                   WidgetName  \\\n",
       "count         881                                         3021   \n",
       "unique          7                                           14   \n",
       "top        Closed  w-302252-DebtReduction1-1DC-CreditSolutions   \n",
       "freq          245                                         1054   \n",
       "\n",
       "       PublisherZoneName PublisherCampaignName   AdvertiserCampaignName State  \\\n",
       "count               3021                  3021                     3021  3021   \n",
       "unique                 2                     2                        2    32   \n",
       "top       TopLeft-302252      DebtReductionInc  Debt Settlement1 Master    CA   \n",
       "freq                2750                  2750                     1815   463   \n",
       "\n",
       "          DebtLevel Partner    ReferralDomain MarketingCampaign       AdGroup  \\\n",
       "count          3021    3021              2506              2749          2749   \n",
       "unique           10       6               372                20           103   \n",
       "top     30001-50000  google  search.yahoo.com  DebtReductionInc  Student Debt   \n",
       "freq            496     979               573              1473           360   \n",
       "\n",
       "                     Keyword         SearchQuery  \\\n",
       "count                    979                1265   \n",
       "unique                   285                 961   \n",
       "top     Credit card payments  debt consolidation   \n",
       "freq                     104                  27   \n",
       "\n",
       "                         ReferralURL ReferralURL Parameters  \\\n",
       "count                           2506                   2283   \n",
       "unique                           670                   2199   \n",
       "top     http://www.google.com/search           _IceUrl=true   \n",
       "freq                             453                     19   \n",
       "\n",
       "                                     LandingPageURL  \\\n",
       "count                                          3021   \n",
       "unique                                            5   \n",
       "top     http://www.debtreductioninc.com/index8.html   \n",
       "freq                                           2540   \n",
       "\n",
       "       Landing Page URL Parameters  \n",
       "count                         3021  \n",
       "unique                        1090  \n",
       "top         utm_source=Call_Center  \n",
       "freq                           271  "
      ]
     },
     "execution_count": 111,
     "metadata": {},
     "output_type": "execute_result"
    }
   ],
   "source": [
    "data.describe(include=\"object\")"
   ]
  },
  {
   "cell_type": "markdown",
   "metadata": {
    "id": "GSpsVRLT4tS2"
   },
   "source": [
    "## Handling Inconsistancies on Partner column."
   ]
  },
  {
   "cell_type": "markdown",
   "metadata": {
    "id": "WImKU9rEn7AG"
   },
   "source": [
    "### We have both uppercase and lowercase variants of some partner names (e.g., 'Google' and 'google'). We will standardize this column for analysis."
   ]
  },
  {
   "cell_type": "code",
   "execution_count": 112,
   "metadata": {
    "colab": {
     "base_uri": "https://localhost:8080/"
    },
    "id": "7_25MvyfoF6i",
    "outputId": "dd4c2aaf-32d7-4fe4-c433-d081a3646d5b"
   },
   "outputs": [
    {
     "data": {
      "text/plain": [
       "array(['google', 'AdKnowledge', 'Google', 'yahoo', 'Advertise.com',\n",
       "       'Call_Center'], dtype=object)"
      ]
     },
     "execution_count": 112,
     "metadata": {},
     "output_type": "execute_result"
    }
   ],
   "source": [
    "data['Partner'].unique()"
   ]
  },
  {
   "cell_type": "code",
   "execution_count": 113,
   "metadata": {
    "id": "bp7q14-en0X0"
   },
   "outputs": [],
   "source": [
    "data['Partner'] = data['Partner'].str.lower()\n"
   ]
  },
  {
   "cell_type": "code",
   "execution_count": 114,
   "metadata": {
    "colab": {
     "base_uri": "https://localhost:8080/"
    },
    "id": "B1GdJ_lknudO",
    "outputId": "1ccaf3be-bad5-48f5-ed20-16d9a22429c1"
   },
   "outputs": [
    {
     "data": {
      "text/plain": [
       "array(['google', 'adknowledge', 'yahoo', 'advertise.com', 'call_center'],\n",
       "      dtype=object)"
      ]
     },
     "execution_count": 114,
     "metadata": {},
     "output_type": "execute_result"
    }
   ],
   "source": [
    "data['Partner'].unique()"
   ]
  },
  {
   "cell_type": "code",
   "execution_count": 115,
   "metadata": {
    "colab": {
     "base_uri": "https://localhost:8080/"
    },
    "id": "EYpJkapXeoE8",
    "outputId": "d0ffe03f-0155-4085-9eb1-416fc7012cbc"
   },
   "outputs": [
    {
     "name": "stdout",
     "output_type": "stream",
     "text": [
      "LeadCreated                      0.000000\n",
      "FirstName                        0.000000\n",
      "Email                            0.000000\n",
      "VendorLeadID                     0.264813\n",
      "CallStatus                      70.837471\n",
      "WidgetName                       0.000000\n",
      "PublisherZoneName                0.000000\n",
      "PublisherCampaignName            0.000000\n",
      "AddressScore                    61.238001\n",
      "PhoneScore                      53.889441\n",
      "AdvertiserCampaignName           0.000000\n",
      "State                            0.000000\n",
      "DebtLevel                        0.000000\n",
      "IP Address                     100.000000\n",
      "Partner                          0.000000\n",
      "ReferralDomain                  17.047335\n",
      "MarketingCampaign                9.003641\n",
      "AdGroup                          9.003641\n",
      "Keyword                         67.593512\n",
      "SearchQuery                     58.126448\n",
      "ReferralURL                     17.047335\n",
      "ReferralURL Parameters          24.428997\n",
      "LandingPageURL                   0.000000\n",
      "Landing Page URL Parameters      0.000000\n",
      "dtype: float64\n"
     ]
    }
   ],
   "source": [
    "# Calculate the percentage of missing values for each column\n",
    "missing_percentage = (data.isnull().sum() / len(data)) * 100\n",
    "\n",
    "# Display the results\n",
    "print(missing_percentage)"
   ]
  },
  {
   "cell_type": "markdown",
   "metadata": {
    "id": "To_e-sh8yzFW"
   },
   "source": [
    "### Since the data has missing values we decide to drop the non-critical missing values and fill the critical missing values.\n",
    "#### VendorLeadID has 8 missing values and since VendorLeadID is useful for counting leads uniquely we can drop these 8 missing values.\n",
    "#### All data in IP Address column is missing and can be ignored or dropped."
   ]
  },
  {
   "cell_type": "code",
   "execution_count": 116,
   "metadata": {
    "id": "x_6WjdjtBcz_"
   },
   "outputs": [],
   "source": [
    "data = data.drop(columns=['IP Address'])"
   ]
  },
  {
   "cell_type": "markdown",
   "metadata": {
    "id": "2nfkq9YcTjgg"
   },
   "source": [
    "(2140 out of 3021) i.e 70% of the data in CallStatus is missing, thus we impute that"
   ]
  },
  {
   "cell_type": "code",
   "execution_count": 117,
   "metadata": {
    "colab": {
     "base_uri": "https://localhost:8080/"
    },
    "id": "kzvxZJdbzrSA",
    "outputId": "cd1a9cbb-afad-4769-adb2-4dec0be836c1"
   },
   "outputs": [
    {
     "data": {
      "text/plain": [
       "array([nan, 'Unable to contact - Bad Contact Information',\n",
       "       \"Contacted - Doesn't Qualify\", 'Closed', 'EP Received',\n",
       "       'EP Confirmed', 'Contacted - Invalid Profile', 'EP Sent'],\n",
       "      dtype=object)"
      ]
     },
     "execution_count": 117,
     "metadata": {},
     "output_type": "execute_result"
    }
   ],
   "source": [
    "data['CallStatus'].unique()"
   ]
  },
  {
   "cell_type": "code",
   "execution_count": 118,
   "metadata": {
    "id": "9Uac8iO6TiHb"
   },
   "outputs": [],
   "source": [
    "# Fill missing CallStatus values with \"Unknown Status\"\n",
    "data['CallStatus'] = data['CallStatus'].fillna('Unknown')"
   ]
  },
  {
   "cell_type": "code",
   "execution_count": 119,
   "metadata": {
    "colab": {
     "base_uri": "https://localhost:8080/",
     "height": 805
    },
    "id": "8v5oZzxYZNp0",
    "outputId": "fbce80fc-29f8-4906-e0cc-9c0ada579da8"
   },
   "outputs": [
    {
     "data": {
      "text/html": [
       "<div>\n",
       "<style scoped>\n",
       "    .dataframe tbody tr th:only-of-type {\n",
       "        vertical-align: middle;\n",
       "    }\n",
       "\n",
       "    .dataframe tbody tr th {\n",
       "        vertical-align: top;\n",
       "    }\n",
       "\n",
       "    .dataframe thead th {\n",
       "        text-align: right;\n",
       "    }\n",
       "</style>\n",
       "<table border=\"1\" class=\"dataframe\">\n",
       "  <thead>\n",
       "    <tr style=\"text-align: right;\">\n",
       "      <th></th>\n",
       "      <th>0</th>\n",
       "    </tr>\n",
       "  </thead>\n",
       "  <tbody>\n",
       "    <tr>\n",
       "      <th>LeadCreated</th>\n",
       "      <td>0</td>\n",
       "    </tr>\n",
       "    <tr>\n",
       "      <th>FirstName</th>\n",
       "      <td>0</td>\n",
       "    </tr>\n",
       "    <tr>\n",
       "      <th>Email</th>\n",
       "      <td>0</td>\n",
       "    </tr>\n",
       "    <tr>\n",
       "      <th>VendorLeadID</th>\n",
       "      <td>8</td>\n",
       "    </tr>\n",
       "    <tr>\n",
       "      <th>CallStatus</th>\n",
       "      <td>0</td>\n",
       "    </tr>\n",
       "    <tr>\n",
       "      <th>WidgetName</th>\n",
       "      <td>0</td>\n",
       "    </tr>\n",
       "    <tr>\n",
       "      <th>PublisherZoneName</th>\n",
       "      <td>0</td>\n",
       "    </tr>\n",
       "    <tr>\n",
       "      <th>PublisherCampaignName</th>\n",
       "      <td>0</td>\n",
       "    </tr>\n",
       "    <tr>\n",
       "      <th>AddressScore</th>\n",
       "      <td>1850</td>\n",
       "    </tr>\n",
       "    <tr>\n",
       "      <th>PhoneScore</th>\n",
       "      <td>1628</td>\n",
       "    </tr>\n",
       "    <tr>\n",
       "      <th>AdvertiserCampaignName</th>\n",
       "      <td>0</td>\n",
       "    </tr>\n",
       "    <tr>\n",
       "      <th>State</th>\n",
       "      <td>0</td>\n",
       "    </tr>\n",
       "    <tr>\n",
       "      <th>DebtLevel</th>\n",
       "      <td>0</td>\n",
       "    </tr>\n",
       "    <tr>\n",
       "      <th>Partner</th>\n",
       "      <td>0</td>\n",
       "    </tr>\n",
       "    <tr>\n",
       "      <th>ReferralDomain</th>\n",
       "      <td>515</td>\n",
       "    </tr>\n",
       "    <tr>\n",
       "      <th>MarketingCampaign</th>\n",
       "      <td>272</td>\n",
       "    </tr>\n",
       "    <tr>\n",
       "      <th>AdGroup</th>\n",
       "      <td>272</td>\n",
       "    </tr>\n",
       "    <tr>\n",
       "      <th>Keyword</th>\n",
       "      <td>2042</td>\n",
       "    </tr>\n",
       "    <tr>\n",
       "      <th>SearchQuery</th>\n",
       "      <td>1756</td>\n",
       "    </tr>\n",
       "    <tr>\n",
       "      <th>ReferralURL</th>\n",
       "      <td>515</td>\n",
       "    </tr>\n",
       "    <tr>\n",
       "      <th>ReferralURL Parameters</th>\n",
       "      <td>738</td>\n",
       "    </tr>\n",
       "    <tr>\n",
       "      <th>LandingPageURL</th>\n",
       "      <td>0</td>\n",
       "    </tr>\n",
       "    <tr>\n",
       "      <th>Landing Page URL Parameters</th>\n",
       "      <td>0</td>\n",
       "    </tr>\n",
       "  </tbody>\n",
       "</table>\n",
       "</div><br><label><b>dtype:</b> int64</label>"
      ],
      "text/plain": [
       "LeadCreated                       0\n",
       "FirstName                         0\n",
       "Email                             0\n",
       "VendorLeadID                      8\n",
       "CallStatus                        0\n",
       "WidgetName                        0\n",
       "PublisherZoneName                 0\n",
       "PublisherCampaignName             0\n",
       "AddressScore                   1850\n",
       "PhoneScore                     1628\n",
       "AdvertiserCampaignName            0\n",
       "State                             0\n",
       "DebtLevel                         0\n",
       "Partner                           0\n",
       "ReferralDomain                  515\n",
       "MarketingCampaign               272\n",
       "AdGroup                         272\n",
       "Keyword                        2042\n",
       "SearchQuery                    1756\n",
       "ReferralURL                     515\n",
       "ReferralURL Parameters          738\n",
       "LandingPageURL                    0\n",
       "Landing Page URL Parameters       0\n",
       "dtype: int64"
      ]
     },
     "execution_count": 119,
     "metadata": {},
     "output_type": "execute_result"
    }
   ],
   "source": [
    "data.isnull().sum()"
   ]
  },
  {
   "cell_type": "markdown",
   "metadata": {
    "id": "3i75LaARdLRb"
   },
   "source": [
    "# Handling Missing Values in VendorLeadID\n",
    "\n",
    "\n",
    "\n"
   ]
  },
  {
   "cell_type": "markdown",
   "metadata": {
    "id": "9I0pNa43QlDs"
   },
   "source": [
    "### VendorLeadID is a unique key and imputing it is not a good idea. And since 8 rows is a small part of data, we can drop these 8 rows."
   ]
  },
  {
   "cell_type": "code",
   "execution_count": 120,
   "metadata": {
    "id": "OHGbYowmQkE2"
   },
   "outputs": [],
   "source": [
    "# Drop rows with missing VendorLeadID (only 8 rows)\n",
    "data = data.dropna(subset=['VendorLeadID'])"
   ]
  },
  {
   "cell_type": "markdown",
   "metadata": {
    "id": "b6ScLbaIddFi"
   },
   "source": [
    "# Handling Missing Values in CallStatus"
   ]
  },
  {
   "cell_type": "markdown",
   "metadata": {
    "id": "RqPG61jv6RwN"
   },
   "source": [
    "### Categorize CallStatus into Lead Quality Groups\n",
    "#### CallStatus can be grouped into four categories:\n",
    "\n",
    "#### Closed (best quality).\n",
    "\n",
    "#### Good Lead Quality (EP Sent, EP Received, EP Confirmed).\n",
    "\n",
    "#### Bad Lead Quality (Unable to Contact, Contacted - Invalid Profile, Contacted - Doesn't Qualify).\n",
    "\n",
    "#### Unknown (already handled by replacing nan with \"Unknown\")."
   ]
  },
  {
   "cell_type": "code",
   "execution_count": 121,
   "metadata": {
    "colab": {
     "base_uri": "https://localhost:8080/"
    },
    "id": "CZS8DTam6NTD",
    "outputId": "e363fbb1-ea01-4460-83e2-10a0c2ed1650"
   },
   "outputs": [
    {
     "name": "stdout",
     "output_type": "stream",
     "text": [
      "LeadQuality\n",
      "Unknown    2140\n",
      "Bad         483\n",
      "Best        244\n",
      "Good        146\n",
      "Name: count, dtype: int64\n"
     ]
    }
   ],
   "source": [
    "# Define a function to categorize CallStatus into LeadQuality groups\n",
    "def categorize_lead_quality(status):\n",
    "    if status == 'Closed':\n",
    "        return 'Best'\n",
    "    elif status in ['EP Sent', 'EP Received', 'EP Confirmed']:\n",
    "        return 'Good'\n",
    "    elif status in ['Unable to contact - Bad Contact Information',\n",
    "                    \"Contacted - Doesn't Qualify\",\n",
    "                    'Contacted - Invalid Profile']:\n",
    "        return 'Bad'\n",
    "    elif status == 'Unknown':\n",
    "        return 'Unknown'\n",
    "    else:\n",
    "        return 'Unknown'  # Fallback for any unexpected values\n",
    "\n",
    "# Apply the function to create a new column 'LeadQuality'\n",
    "data['LeadQuality'] = data['CallStatus'].apply(categorize_lead_quality)\n",
    "\n",
    "# Check the distribution of LeadQuality\n",
    "print(data['LeadQuality'].value_counts())"
   ]
  },
  {
   "cell_type": "code",
   "execution_count": 122,
   "metadata": {
    "colab": {
     "base_uri": "https://localhost:8080/"
    },
    "id": "vRSx0fAJ-vkA",
    "outputId": "b2414865-749f-4832-ea4f-78d51a6ae96a"
   },
   "outputs": [
    {
     "name": "stdout",
     "output_type": "stream",
     "text": [
      "                                       CallStatus LeadQuality\n",
      "122                                       Unknown     Unknown\n",
      "2372                                      Unknown     Unknown\n",
      "1104                  Contacted - Doesn't Qualify         Bad\n",
      "1406                                      Unknown     Unknown\n",
      "430                                       Unknown     Unknown\n",
      "1299                                       Closed        Best\n",
      "1034                                      Unknown     Unknown\n",
      "37                                        Unknown     Unknown\n",
      "902   Unable to contact - Bad Contact Information         Bad\n",
      "1212  Unable to contact - Bad Contact Information         Bad\n"
     ]
    }
   ],
   "source": [
    "# Display a sample of the data with CallStatus and LeadQuality\n",
    "data[['CallStatus', 'LeadQuality']].sample(10)"
   ]
  },
  {
   "cell_type": "markdown",
   "metadata": {
    "id": "sx6r0NYQdjYn"
   },
   "source": [
    "# Handling Missing values for AddressScore and PhoneScore."
   ]
  },
  {
   "cell_type": "markdown",
   "metadata": {
    "id": "0CisD4uiOxas"
   },
   "source": [
    "### There are 1850 missing values in AddressScore and 1628 in PhoneScore. Since these are recent additions, and missing values indicate older data. We'll keep these columns but note that they are incomplete/Unknown.\n",
    "\n",
    "*   Even though the values are numerical, Imputing with numerical data could misrepresent the data.\n",
    "\n",
    "\n"
   ]
  },
  {
   "cell_type": "code",
   "execution_count": 123,
   "metadata": {
    "colab": {
     "base_uri": "https://localhost:8080/"
    },
    "id": "MdISeDCYOwwC",
    "outputId": "51d80486-d849-4ce9-d2b1-51bcb53181a9"
   },
   "outputs": [
    {
     "name": "stdout",
     "output_type": "stream",
     "text": [
      "AddressScore\n",
      "Unknown    1844\n",
      "5.0         868\n",
      "1.0         122\n",
      "3.0          93\n",
      "4.0          48\n",
      "2.0          38\n",
      "Name: count, dtype: int64\n",
      "PhoneScore\n",
      "Unknown    1623\n",
      "5.0         619\n",
      "3.0         426\n",
      "4.0         184\n",
      "2.0         160\n",
      "1.0           1\n",
      "Name: count, dtype: int64\n"
     ]
    }
   ],
   "source": [
    "# Impute missing values for AddressScore and PhoneScore with \"Unknown\"\n",
    "data['AddressScore'] = data['AddressScore'].fillna('Unknown')\n",
    "data['PhoneScore'] = data['PhoneScore'].fillna('Unknown')\n",
    "\n",
    "# Convert AddressScore and PhoneScore to categorical variables\n",
    "data['AddressScore'] = data['AddressScore'].astype('category')\n",
    "data['PhoneScore'] = data['PhoneScore'].astype('category')\n",
    "\n",
    "# Check the distribution of AddressScore and PhoneScore\n",
    "print(data['AddressScore'].value_counts())\n",
    "print(data['PhoneScore'].value_counts())"
   ]
  },
  {
   "cell_type": "markdown",
   "metadata": {
    "id": "TncBpvCFeD0W"
   },
   "source": [
    "# Handling Missing Values for ReferralDomain\n"
   ]
  },
  {
   "cell_type": "code",
   "execution_count": 124,
   "metadata": {
    "colab": {
     "base_uri": "https://localhost:8080/"
    },
    "id": "HdDJvV3meErm",
    "outputId": "e8f69ff0-dc7b-454b-b347-6604b48949d2"
   },
   "outputs": [
    {
     "name": "stdout",
     "output_type": "stream",
     "text": [
      "ReferralDomain\n",
      "search.yahoo.com               22.858287\n",
      "www.google.com                 19.655725\n",
      "googleads.g.doubleclick.net    11.529223\n",
      "ezinearticles.com               4.043235\n",
      "www.ehow.com                    2.762210\n",
      "                                 ...    \n",
      "wwk.searchresults.gci.net       0.040032\n",
      "www.ezcreditrepair.com          0.040032\n",
      "www.profileonline.com           0.040032\n",
      "www.dontpayitback.com           0.040032\n",
      "www.reducethedebt.org           0.040032\n",
      "Name: proportion, Length: 370, dtype: float64\n"
     ]
    }
   ],
   "source": [
    "# Check distribution of ReferralDomain\n",
    "print(data['ReferralDomain'].value_counts(normalize=True) * 100)  # Percentage for better readability\n"
   ]
  },
  {
   "cell_type": "code",
   "execution_count": 125,
   "metadata": {
    "colab": {
     "base_uri": "https://localhost:8080/",
     "height": 817
    },
    "id": "Euy8yjxMedIe",
    "outputId": "2d13834e-725c-4e0e-d7ed-df81583a1d7b"
   },
   "outputs": [
    {
     "name": "stderr",
     "output_type": "stream",
     "text": [
      "<ipython-input-125-e459ffc0ca95>:8: FutureWarning: \n",
      "\n",
      "Passing `palette` without assigning `hue` is deprecated and will be removed in v0.14.0. Assign the `x` variable to `hue` and set `legend=False` for the same effect.\n",
      "\n",
      "  sns.barplot(x=top_domains.index, y=top_domains.values, palette=\"Blues_r\")\n"
     ]
    },
    {
     "data": {
      "image/png": "[encoded data removed]",
      "text/plain": [
       "<Figure size 1200x500 with 1 Axes>"
      ]
     },
     "metadata": {},
     "output_type": "display_data"
    }
   ],
   "source": [
    "# Set plot style\n",
    "sns.set(style=\"whitegrid\")\n",
    "\n",
    "# Top Referral Domains Distribution\n",
    "top_domains = data['ReferralDomain'].value_counts().head(15)  # Top 15 domains\n",
    "\n",
    "plt.figure(figsize=(12, 5))\n",
    "sns.barplot(x=top_domains.index, y=top_domains.values, palette=\"Blues_r\")\n",
    "plt.xticks(rotation=90)\n",
    "plt.xlabel(\"Referral Domain\")\n",
    "plt.ylabel(\"Lead Count\")\n",
    "plt.title(\"Top 15 Referral Domains Driving Traffic\")\n",
    "plt.show()\n",
    "\n",
    "# Lead Conversion Rate by Referral Domain\n",
    "# Define lead quality as % of leads that became \"Closed\" customers\n",
    "lead_quality = data.groupby('ReferralDomain')['CallStatus'].apply(lambda x: (x == \"Closed\").mean()).sort_values(ascending=False)"
   ]
  },
  {
   "cell_type": "markdown",
   "metadata": {
    "id": "iqhrmHCdgkAz"
   },
   "source": [
    "### Replace missing values (515) with \"Unknown\".  Missing ReferralDomain values means the traffic source isn't logged, thus we replace missing values with \"Unknown\" as 515 corrosponds to ~17% of data and discrading it is not ideal as it incurs the risk of lossing important data."
   ]
  },
  {
   "cell_type": "code",
   "execution_count": 126,
   "metadata": {
    "colab": {
     "base_uri": "https://localhost:8080/"
    },
    "id": "A9eBsQFYggxL",
    "outputId": "c69a96ac-9569-4c78-ab6c-9821e4e6a07c"
   },
   "outputs": [
    {
     "name": "stderr",
     "output_type": "stream",
     "text": [
      "<ipython-input-126-29de8a142405>:1: FutureWarning: A value is trying to be set on a copy of a DataFrame or Series through chained assignment using an inplace method.\n",
      "The behavior will change in pandas 3.0. This inplace method will never work because the intermediate object on which we are setting values always behaves as a copy.\n",
      "\n",
      "For example, when doing 'df[col].method(value, inplace=True)', try using 'df.method({col: value}, inplace=True)' or df[col] = df[col].method(value) instead, to perform the operation inplace on the original object.\n",
      "\n",
      "\n",
      "  data['ReferralDomain'].fillna(\"Unknown\", inplace=True)\n"
     ]
    }
   ],
   "source": [
    "data['ReferralDomain'].fillna(\"Unknown\", inplace=True)"
   ]
  },
  {
   "cell_type": "markdown",
   "metadata": {
    "id": "4B0yJzjHig3t"
   },
   "source": [
    "## Handling missing Values for Marketing campaign."
   ]
  },
  {
   "cell_type": "markdown",
   "metadata": {
    "id": "b7MJ-pbYize2"
   },
   "source": [
    "### MarketingCampaign column indicates whether traffic came from Google AdWords, Yahoo Search Marketing, or content network ads (AdSense). Since 9.03% of values are missing instead of imputing with most frequent values (which could be misleading), we will label missing values as \"Unknown\""
   ]
  },
  {
   "cell_type": "code",
   "execution_count": 127,
   "metadata": {
    "colab": {
     "base_uri": "https://localhost:8080/"
    },
    "id": "jrDyVypfigQo",
    "outputId": "2b43889b-b45b-47eb-c284-1c560d6d3d9a"
   },
   "outputs": [
    {
     "name": "stderr",
     "output_type": "stream",
     "text": [
      "<ipython-input-127-8c84a2368295>:1: FutureWarning: A value is trying to be set on a copy of a DataFrame or Series through chained assignment using an inplace method.\n",
      "The behavior will change in pandas 3.0. This inplace method will never work because the intermediate object on which we are setting values always behaves as a copy.\n",
      "\n",
      "For example, when doing 'df[col].method(value, inplace=True)', try using 'df.method({col: value}, inplace=True)' or df[col] = df[col].method(value) instead, to perform the operation inplace on the original object.\n",
      "\n",
      "\n",
      "  data['MarketingCampaign'].fillna('Unknown', inplace=True)\n"
     ]
    }
   ],
   "source": [
    "data['MarketingCampaign'].fillna('Unknown', inplace=True)\n"
   ]
  },
  {
   "cell_type": "markdown",
   "metadata": {
    "id": "farnJ1fFjMzl"
   },
   "source": [
    "## Handling missing Values for Marketing campaign."
   ]
  },
  {
   "cell_type": "markdown",
   "metadata": {
    "id": "-ncohNpqjQUG"
   },
   "source": [
    "The AdGroup column represents Google AdWords or Yahoo Search Marketing AdGroups, which segment campaigns into smaller, more targeted groups. Since 9.02% of values are missing, we impute them using \"Unknown\" to preserve the data."
   ]
  },
  {
   "cell_type": "code",
   "execution_count": 128,
   "metadata": {
    "colab": {
     "base_uri": "https://localhost:8080/"
    },
    "id": "6nm9tBGhit2L",
    "outputId": "11d0b3a7-83d8-4ab4-db9a-7f504834705f"
   },
   "outputs": [
    {
     "name": "stderr",
     "output_type": "stream",
     "text": [
      "<ipython-input-128-d9bfc9a720c1>:1: FutureWarning: A value is trying to be set on a copy of a DataFrame or Series through chained assignment using an inplace method.\n",
      "The behavior will change in pandas 3.0. This inplace method will never work because the intermediate object on which we are setting values always behaves as a copy.\n",
      "\n",
      "For example, when doing 'df[col].method(value, inplace=True)', try using 'df.method({col: value}, inplace=True)' or df[col] = df[col].method(value) instead, to perform the operation inplace on the original object.\n",
      "\n",
      "\n",
      "  data['AdGroup'].fillna('Unknown', inplace=True)\n"
     ]
    }
   ],
   "source": [
    "data['AdGroup'].fillna('Unknown', inplace=True)"
   ]
  },
  {
   "cell_type": "markdown",
   "metadata": {
    "id": "XlGqOCXcmZNj"
   },
   "source": [
    "# Handling missing values for Keyword (67.57% Missing)"
   ]
  },
  {
   "cell_type": "code",
   "execution_count": 129,
   "metadata": {
    "colab": {
     "base_uri": "https://localhost:8080/"
    },
    "id": "GBpOOe58mnTy",
    "outputId": "0982f79a-64aa-4067-87dc-f64d06e38e6a"
   },
   "outputs": [
    {
     "name": "stdout",
     "output_type": "stream",
     "text": [
      "['google' 'adknowledge' 'yahoo' 'advertise.com' 'call_center']\n",
      "['Holding Tank - Debt' 'Consolidate' 'Lower Payments' 'Debt Reduction'\n",
      " 'Credit Card Debt - high volume' 'Student Debt' 'Debt Credit Services'\n",
      " 'Debt Consolidation' 'Settlement' 'Debt' 'Debt Settlement Companies'\n",
      " 'Get Out Of Debt' 'General Debt' 'Consolidation Debt Loan'\n",
      " 'Bankruptcy And Chapter 7' 'Loan Default' 'Stop Collections'\n",
      " 'Credit Card Debt' 'Debt Advice' 'Filing Bankrupcy'\n",
      " 'Debt Consolidation - high volume' 'Credit Card Reduction' 'Debt Program'\n",
      " 'Student Debt - high volume' 'Online Settle'\n",
      " 'Credit Card Debt Consolidation Loan' 'Credit Card Consolidation' 'How'\n",
      " 'Debt Negotiation' 'Chapter 13' 'About Bill Consolidation'\n",
      " 'Consolidation' 'Bankruptcy And Chapter 13' 'Debt Loan'\n",
      " 'Debt Consolidation Loan' 'Chapter 7 Bankruptcy' 'Credit Consolidation'\n",
      " 'General Debt - high volume' 'Credit Services' 'Chapter 13 Bankruptcy'\n",
      " 'Debt Company' 'Consolidation Program' 'Debt Consolidate'\n",
      " 'Credit Card Settlement' 'Bankruptcy (LV)' 'Bankruptcy'\n",
      " 'Personal Debt Consolidation Loan' 'Debt Services'\n",
      " 'Debt Consolidation (LV)' 'File Bankruptcy' 'Credit Debt Consolidation'\n",
      " 'Bill Consolidation' 'Debt Arbitration (HV)' 'Unsecured Debt'\n",
      " 'Holding_Tank_-_Debt' 'Debt Restructuring' 'Debt Arbitration'\n",
      " 'Bankruptcy - high volume' 'Credit Debt Consolidation Loan'\n",
      " 'Free Debt Consolidation' 'Unknown' 'Debt Reduction (HV)' 'Debt Solution'\n",
      " 'Personal Debt' 'Debt Payment' 'Be Debt Free'\n",
      " 'Debt Consolidation Loan - high volume' 'About Debt Consolidation'\n",
      " 'Free Credit Card Debt Consolidation' 'Credit Card Debt (LV)'\n",
      " 'Debt Consolidate (HV)' 'Credit Card Debt Reduction' 'Debt Collection'\n",
      " 'Lower Payments (LV)' 'Debt Solution (LV)'\n",
      " 'Unsecured Debt Consolidation Loan' 'Debt Company - high volume'\n",
      " 'Debt Misspell' 'Student Debt Consolidation' 'Chapter 7 Bankruptcy (LV)'\n",
      " 'Debt Settlement' 'How Settle' 'Credit Card Debt Company'\n",
      " 'Lower_Payments' 'debt' 'Credit Bill Consolidation'\n",
      " 'Debt Consolidation - high volume (LV)' 'Bill Consolidation Loan (HV)'\n",
      " 'Chapter 13 Bankruptcy - high volume' 'Chapter 7' 'Federal Debt'\n",
      " 'Debt Credit Services (HV)' 'File Bankruptcy (HV)' 'Debt Services (LV)'\n",
      " 'General Debt (LV)' 'Bill Consolidation Loan' 'Filing Bankrupcy (LV)'\n",
      " 'Debt_Consolidation' 'Debt_Consolidate' 'Free' 'Debt Strategies'\n",
      " 'Debt_Services' 'Credit_Debt_Consolidation' 'Debt Counseling']\n"
     ]
    }
   ],
   "source": [
    "data['Partner'].unique()\n",
    "data['AdGroup'].unique()"
   ]
  },
  {
   "cell_type": "markdown",
   "metadata": {
    "id": "c2vQo0GYqP-q"
   },
   "source": [
    "### Since 67.57% is a huge amount of missing data and Keyword is crucial information for our analysis. If we impute the missing values by \"Unknown\", Imputation based on other Variables may introduce bias and may not reflect actual patterns, potentially affecting analysis."
   ]
  },
  {
   "cell_type": "code",
   "execution_count": 155,
   "metadata": {
    "colab": {
     "base_uri": "https://localhost:8080/"
    },
    "id": "N_4aFxpFqnbN",
    "outputId": "05affaa9-eb10-4f34-e6d9-e45f9e2fedb8"
   },
   "outputs": [
    {
     "name": "stderr",
     "output_type": "stream",
     "text": [
      "<ipython-input-155-6a6f378ac001>:2: FutureWarning: A value is trying to be set on a copy of a DataFrame or Series through chained assignment using an inplace method.\n",
      "The behavior will change in pandas 3.0. This inplace method will never work because the intermediate object on which we are setting values always behaves as a copy.\n",
      "\n",
      "For example, when doing 'df[col].method(value, inplace=True)', try using 'df.method({col: value}, inplace=True)' or df[col] = df[col].method(value) instead, to perform the operation inplace on the original object.\n",
      "\n",
      "\n",
      "  data['Keyword'].fillna('Unknown', inplace=True)\n"
     ]
    }
   ],
   "source": [
    "# Fill missing values in the 'Keyword' column with 'Unknown'\n",
    "data['Keyword'].fillna('Unknown', inplace=True)"
   ]
  },
  {
   "cell_type": "code",
   "execution_count": 131,
   "metadata": {
    "colab": {
     "base_uri": "https://localhost:8080/"
    },
    "id": "q7oWxa0Y4w75",
    "outputId": "69d6e334-4ed5-4104-f256-7c9c59aca4f3"
   },
   "outputs": [
    {
     "data": {
      "text/plain": [
       "array(['TopLeft-302252', 'Top Right-300x250'], dtype=object)"
      ]
     },
     "execution_count": 131,
     "metadata": {},
     "output_type": "execute_result"
    }
   ],
   "source": [
    "data['PublisherZoneName'].unique()"
   ]
  },
  {
   "cell_type": "code",
   "execution_count": 132,
   "metadata": {
    "id": "eJQlyLNTsFNJ"
   },
   "outputs": [],
   "source": [
    "# Fill missing values for multiple columns with 'Unknown'\n",
    "columns_to_fill = ['SearchQuery', 'ReferralURL', 'ReferralURL Parameters']\n",
    "\n",
    "# Apply fillna with 'Unknown' to each of these columns\n",
    "data[columns_to_fill] = data[columns_to_fill].fillna('Unknown')\n"
   ]
  },
  {
   "cell_type": "code",
   "execution_count": 133,
   "metadata": {
    "colab": {
     "base_uri": "https://localhost:8080/"
    },
    "id": "03j3xRIlVIqt",
    "outputId": "6b2491d8-7e14-4ede-f6fc-fe0b97cc81d7"
   },
   "outputs": [
    {
     "name": "stdout",
     "output_type": "stream",
     "text": [
      "LeadCreated                    0.0\n",
      "FirstName                      0.0\n",
      "Email                          0.0\n",
      "VendorLeadID                   0.0\n",
      "CallStatus                     0.0\n",
      "WidgetName                     0.0\n",
      "PublisherZoneName              0.0\n",
      "PublisherCampaignName          0.0\n",
      "AddressScore                   0.0\n",
      "PhoneScore                     0.0\n",
      "AdvertiserCampaignName         0.0\n",
      "State                          0.0\n",
      "DebtLevel                      0.0\n",
      "Partner                        0.0\n",
      "ReferralDomain                 0.0\n",
      "MarketingCampaign              0.0\n",
      "AdGroup                        0.0\n",
      "Keyword                        0.0\n",
      "SearchQuery                    0.0\n",
      "ReferralURL                    0.0\n",
      "ReferralURL Parameters         0.0\n",
      "LandingPageURL                 0.0\n",
      "Landing Page URL Parameters    0.0\n",
      "LeadQuality                    0.0\n",
      "dtype: float64\n"
     ]
    }
   ],
   "source": [
    "# Calculate the percentage of missing values for each column\n",
    "missing_percentage = (data.isnull().sum() / len(data)) * 100\n",
    "\n",
    "# Display the results\n",
    "missing_percentage"
   ]
  },
  {
   "cell_type": "markdown",
   "metadata": {
    "id": "TiPWYZZ1sQEU"
   },
   "source": [
    "# We have now Successfully handeled missing data, now the data is ready for Analysis."
   ]
  },
  {
   "cell_type": "markdown",
   "metadata": {
    "id": "tuFU1L5A4TFH"
   },
   "source": [
    "## Are we seeing any lead quality trends over time (improving, declining)? Are they statistically significant?\n"
   ]
  },
  {
   "cell_type": "code",
   "execution_count": 134,
   "metadata": {
    "colab": {
     "base_uri": "https://localhost:8080/",
     "height": 801
    },
    "id": "Ee-53d_tBSSZ",
    "outputId": "996ced83-31b9-434b-c6dc-fbd509f8cf8b"
   },
   "outputs": [
    {
     "data": {
      "image/png": "[encoded data removed]",
      "text/plain": [
       "<Figure size 1400x800 with 1 Axes>"
      ]
     },
     "metadata": {},
     "output_type": "display_data"
    }
   ],
   "source": [
    "# Set the style for plots\n",
    "sns.set(style=\"whitegrid\")\n",
    "\n",
    "# Convert LeadCreated to datetime (if not already done)\n",
    "data['LeadCreated'] = pd.to_datetime(data['LeadCreated'])\n",
    "\n",
    "# Extract year and month from LeadCreated for easier grouping\n",
    "data['YearMonth'] = data['LeadCreated'].dt.to_period('M')\n",
    "\n",
    "# Group by YearMonth and LeadQuality, and count the number of leads\n",
    "lead_quality_over_time = data.groupby(['YearMonth', 'LeadQuality']).size().unstack(fill_value=0)\n",
    "\n",
    "# Calculate the percentage of each LeadQuality group over time\n",
    "lead_quality_over_time_percentage = lead_quality_over_time.div(lead_quality_over_time.sum(axis=1), axis=0) * 100\n",
    "\n",
    "# Convert YearMonth to string for plotting\n",
    "lead_quality_over_time_percentage.index = lead_quality_over_time_percentage.index.astype(str)\n",
    "\n",
    "# Plot the trends\n",
    "plt.figure(figsize=(14, 8))\n",
    "for column in lead_quality_over_time_percentage.columns:\n",
    "    plt.plot(lead_quality_over_time_percentage.index,\n",
    "             lead_quality_over_time_percentage[column],\n",
    "             marker='o',  # Add markers for each data point\n",
    "             label=column)\n",
    "\n",
    "# Add title and labels\n",
    "plt.title('Lead Quality Trends Over Time', fontsize=16)\n",
    "plt.xlabel('Year-Month', fontsize=14)\n",
    "plt.ylabel('Percentage of Leads', fontsize=14)\n",
    "\n",
    "# Rotate x-axis labels for better readability\n",
    "plt.xticks(rotation=45, ha='right')\n",
    "\n",
    "# Add a legend\n",
    "plt.legend(title='Lead Quality', bbox_to_anchor=(1.05, 1), loc='upper left')\n",
    "\n",
    "# Add grid for better readability\n",
    "plt.grid(True, linestyle='--', alpha=0.7)\n",
    "\n",
    "# Adjust layout to prevent clipping of labels\n",
    "plt.tight_layout()\n",
    "\n",
    "# Show the plot\n",
    "plt.show()"
   ]
  },
  {
   "cell_type": "markdown",
   "metadata": {
    "id": "l7_xz8K1Dv7w"
   },
   "source": [
    "###Segment Analysis:\n",
    "\n",
    "Break down the data by segments (e.g., WidgetName, PublisherZoneName, State) to identify high-performing and underperforming segments."
   ]
  },
  {
   "cell_type": "markdown",
   "metadata": {
    "id": "PXbANPfNEpsH"
   },
   "source": [
    "#### We want to analyze the relationship between two categorical variables (Time Period (e.g., Year-Month), Lead Quality (Best, Good, Bad, Unknown)). we use a contingency table to organize and summarize categorical data.\n",
    "#### By creating a contingency table, we can see how the distribution of lead quality changes over time"
   ]
  },
  {
   "cell_type": "code",
   "execution_count": 135,
   "metadata": {
    "id": "SeATsrkMBYX5"
   },
   "outputs": [],
   "source": [
    "from scipy.stats import chi2_contingency\n",
    "\n",
    "# Create a contingency table of LeadQuality counts by YearMonth\n",
    "contingency_table = data.groupby(['YearMonth', 'LeadQuality']).size().unstack(fill_value=0)"
   ]
  },
  {
   "cell_type": "code",
   "execution_count": 136,
   "metadata": {
    "colab": {
     "base_uri": "https://localhost:8080/",
     "height": 269
    },
    "id": "xpS8_Lf1F9iH",
    "outputId": "384a9e38-2919-4525-fbce-bf36dd1c19e6"
   },
   "outputs": [
    {
     "data": {
      "application/vnd.google.colaboratory.intrinsic+json": {
       "summary": "{\n  \"name\": \"contingency_table\",\n  \"rows\": 6,\n  \"fields\": [\n    {\n      \"column\": \"YearMonth\",\n      \"properties\": {\n        \"dtype\": \"period[M]\",\n        \"num_unique_values\": 6,\n        \"samples\": [\n          \"2009-04\",\n          \"2009-05\",\n          \"2009-09\"\n        ],\n        \"semantic_type\": \"\",\n        \"description\": \"\"\n      }\n    },\n    {\n      \"column\": \"Bad\",\n      \"properties\": {\n        \"dtype\": \"number\",\n        \"std\": 34,\n        \"min\": 56,\n        \"max\": 138,\n        \"num_unique_values\": 5,\n        \"samples\": [\n          138,\n          56,\n          109\n        ],\n        \"semantic_type\": \"\",\n        \"description\": \"\"\n      }\n    },\n    {\n      \"column\": \"Best\",\n      \"properties\": {\n        \"dtype\": \"number\",\n        \"std\": 16,\n        \"min\": 15,\n        \"max\": 63,\n        \"num_unique_values\": 6,\n        \"samples\": [\n          55,\n          37,\n          15\n        ],\n        \"semantic_type\": \"\",\n        \"description\": \"\"\n      }\n    },\n    {\n      \"column\": \"Good\",\n      \"properties\": {\n        \"dtype\": \"number\",\n        \"std\": 9,\n        \"min\": 16,\n        \"max\": 43,\n        \"num_unique_values\": 5,\n        \"samples\": [\n          21,\n          43,\n          16\n        ],\n        \"semantic_type\": \"\",\n        \"description\": \"\"\n      }\n    },\n    {\n      \"column\": \"Unknown\",\n      \"properties\": {\n        \"dtype\": \"number\",\n        \"std\": 79,\n        \"min\": 230,\n        \"max\": 464,\n        \"num_unique_values\": 5,\n        \"samples\": [\n          464,\n          230,\n          373\n        ],\n        \"semantic_type\": \"\",\n        \"description\": \"\"\n      }\n    }\n  ]\n}",
       "type": "dataframe",
       "variable_name": "contingency_table"
      },
      "text/html": [
       "\n",
       "  <div id=\"df-489b38d4-7d91-4950-97e7-643255274c1f\" class=\"colab-df-container\">\n",
       "    <div>\n",
       "<style scoped>\n",
       "    .dataframe tbody tr th:only-of-type {\n",
       "        vertical-align: middle;\n",
       "    }\n",
       "\n",
       "    .dataframe tbody tr th {\n",
       "        vertical-align: top;\n",
       "    }\n",
       "\n",
       "    .dataframe thead th {\n",
       "        text-align: right;\n",
       "    }\n",
       "</style>\n",
       "<table border=\"1\" class=\"dataframe\">\n",
       "  <thead>\n",
       "    <tr style=\"text-align: right;\">\n",
       "      <th>LeadQuality</th>\n",
       "      <th>Bad</th>\n",
       "      <th>Best</th>\n",
       "      <th>Good</th>\n",
       "      <th>Unknown</th>\n",
       "    </tr>\n",
       "    <tr>\n",
       "      <th>YearMonth</th>\n",
       "      <th></th>\n",
       "      <th></th>\n",
       "      <th></th>\n",
       "      <th></th>\n",
       "    </tr>\n",
       "  </thead>\n",
       "  <tbody>\n",
       "    <tr>\n",
       "      <th>2009-04</th>\n",
       "      <td>57</td>\n",
       "      <td>55</td>\n",
       "      <td>23</td>\n",
       "      <td>382</td>\n",
       "    </tr>\n",
       "    <tr>\n",
       "      <th>2009-05</th>\n",
       "      <td>57</td>\n",
       "      <td>37</td>\n",
       "      <td>21</td>\n",
       "      <td>464</td>\n",
       "    </tr>\n",
       "    <tr>\n",
       "      <th>2009-06</th>\n",
       "      <td>138</td>\n",
       "      <td>63</td>\n",
       "      <td>23</td>\n",
       "      <td>382</td>\n",
       "    </tr>\n",
       "    <tr>\n",
       "      <th>2009-07</th>\n",
       "      <td>109</td>\n",
       "      <td>33</td>\n",
       "      <td>16</td>\n",
       "      <td>373</td>\n",
       "    </tr>\n",
       "    <tr>\n",
       "      <th>2009-08</th>\n",
       "      <td>66</td>\n",
       "      <td>41</td>\n",
       "      <td>20</td>\n",
       "      <td>309</td>\n",
       "    </tr>\n",
       "    <tr>\n",
       "      <th>2009-09</th>\n",
       "      <td>56</td>\n",
       "      <td>15</td>\n",
       "      <td>43</td>\n",
       "      <td>230</td>\n",
       "    </tr>\n",
       "  </tbody>\n",
       "</table>\n",
       "</div>\n",
       "    <div class=\"colab-df-buttons\">\n",
       "\n",
       "  <div class=\"colab-df-container\">\n",
       "    <button class=\"colab-df-convert\" onclick=\"convertToInteractive('df-489b38d4-7d91-4950-97e7-643255274c1f')\"\n",
       "            title=\"Convert this dataframe to an interactive table.\"\n",
       "            style=\"display:none;\">\n",
       "\n",
       "  <svg xmlns=\"http://www.w3.org/2000/svg\" height=\"24px\" viewBox=\"0 -960 960 960\">\n",
       "    <path d=\"M120-120v-720h720v720H120Zm60-500h600v-160H180v160Zm220 220h160v-160H400v160Zm0 220h160v-160H400v160ZM180-400h160v-160H180v160Zm440 0h160v-160H620v160ZM180-180h160v-160H180v160Zm440 0h160v-160H620v160Z\"/>\n",
       "  </svg>\n",
       "    </button>\n",
       "\n",
       "  <style>\n",
       "    .colab-df-container {\n",
       "      display:flex;\n",
       "      gap: 12px;\n",
       "    }\n",
       "\n",
       "    .colab-df-convert {\n",
       "      background-color: #E8F0FE;\n",
       "      border: none;\n",
       "      border-radius: 50%;\n",
       "      cursor: pointer;\n",
       "      display: none;\n",
       "      fill: #1967D2;\n",
       "      height: 32px;\n",
       "      padding: 0 0 0 0;\n",
       "      width: 32px;\n",
       "    }\n",
       "\n",
       "    .colab-df-convert:hover {\n",
       "      background-color: #E2EBFA;\n",
       "      box-shadow: 0px 1px 2px rgba(60, 64, 67, 0.3), 0px 1px 3px 1px rgba(60, 64, 67, 0.15);\n",
       "      fill: #174EA6;\n",
       "    }\n",
       "\n",
       "    .colab-df-buttons div {\n",
       "      margin-bottom: 4px;\n",
       "    }\n",
       "\n",
       "    [theme=dark] .colab-df-convert {\n",
       "      background-color: #3B4455;\n",
       "      fill: #D2E3FC;\n",
       "    }\n",
       "\n",
       "    [theme=dark] .colab-df-convert:hover {\n",
       "      background-color: #434B5C;\n",
       "      box-shadow: 0px 1px 3px 1px rgba(0, 0, 0, 0.15);\n",
       "      filter: drop-shadow(0px 1px 2px rgba(0, 0, 0, 0.3));\n",
       "      fill: #FFFFFF;\n",
       "    }\n",
       "  </style>\n",
       "\n",
       "    <script>\n",
       "      const buttonEl =\n",
       "        document.querySelector('#df-489b38d4-7d91-4950-97e7-643255274c1f button.colab-df-convert');\n",
       "      buttonEl.style.display =\n",
       "        google.colab.kernel.accessAllowed ? 'block' : 'none';\n",
       "\n",
       "      async function convertToInteractive(key) {\n",
       "        const element = document.querySelector('#df-489b38d4-7d91-4950-97e7-643255274c1f');\n",
       "        const dataTable =\n",
       "          await google.colab.kernel.invokeFunction('convertToInteractive',\n",
       "                                                    [key], {});\n",
       "        if (!dataTable) return;\n",
       "\n",
       "        const docLinkHtml = 'Like what you see? Visit the ' +\n",
       "          '<a target=\"_blank\" href=https://colab.research.google.com/notebooks/data_table.ipynb>data table notebook</a>'\n",
       "          + ' to learn more about interactive tables.';\n",
       "        element.innerHTML = '';\n",
       "        dataTable['output_type'] = 'display_data';\n",
       "        await google.colab.output.renderOutput(dataTable, element);\n",
       "        const docLink = document.createElement('div');\n",
       "        docLink.innerHTML = docLinkHtml;\n",
       "        element.appendChild(docLink);\n",
       "      }\n",
       "    </script>\n",
       "  </div>\n",
       "\n",
       "\n",
       "<div id=\"df-876a86aa-6152-46fd-a940-7833830ec1fd\">\n",
       "  <button class=\"colab-df-quickchart\" onclick=\"quickchart('df-876a86aa-6152-46fd-a940-7833830ec1fd')\"\n",
       "            title=\"Suggest charts\"\n",
       "            style=\"display:none;\">\n",
       "\n",
       "<svg xmlns=\"http://www.w3.org/2000/svg\" height=\"24px\"viewBox=\"0 0 24 24\"\n",
       "     width=\"24px\">\n",
       "    <g>\n",
       "        <path d=\"M19 3H5c-1.1 0-2 .9-2 2v14c0 1.1.9 2 2 2h14c1.1 0 2-.9 2-2V5c0-1.1-.9-2-2-2zM9 17H7v-7h2v7zm4 0h-2V7h2v10zm4 0h-2v-4h2v4z\"/>\n",
       "    </g>\n",
       "</svg>\n",
       "  </button>\n",
       "\n",
       "<style>\n",
       "  .colab-df-quickchart {\n",
       "      --bg-color: #E8F0FE;\n",
       "      --fill-color: #1967D2;\n",
       "      --hover-bg-color: #E2EBFA;\n",
       "      --hover-fill-color: #174EA6;\n",
       "      --disabled-fill-color: #AAA;\n",
       "      --disabled-bg-color: #DDD;\n",
       "  }\n",
       "\n",
       "  [theme=dark] .colab-df-quickchart {\n",
       "      --bg-color: #3B4455;\n",
       "      --fill-color: #D2E3FC;\n",
       "      --hover-bg-color: #434B5C;\n",
       "      --hover-fill-color: #FFFFFF;\n",
       "      --disabled-bg-color: #3B4455;\n",
       "      --disabled-fill-color: #666;\n",
       "  }\n",
       "\n",
       "  .colab-df-quickchart {\n",
       "    background-color: var(--bg-color);\n",
       "    border: none;\n",
       "    border-radius: 50%;\n",
       "    cursor: pointer;\n",
       "    display: none;\n",
       "    fill: var(--fill-color);\n",
       "    height: 32px;\n",
       "    padding: 0;\n",
       "    width: 32px;\n",
       "  }\n",
       "\n",
       "  .colab-df-quickchart:hover {\n",
       "    background-color: var(--hover-bg-color);\n",
       "    box-shadow: 0 1px 2px rgba(60, 64, 67, 0.3), 0 1px 3px 1px rgba(60, 64, 67, 0.15);\n",
       "    fill: var(--button-hover-fill-color);\n",
       "  }\n",
       "\n",
       "  .colab-df-quickchart-complete:disabled,\n",
       "  .colab-df-quickchart-complete:disabled:hover {\n",
       "    background-color: var(--disabled-bg-color);\n",
       "    fill: var(--disabled-fill-color);\n",
       "    box-shadow: none;\n",
       "  }\n",
       "\n",
       "  .colab-df-spinner {\n",
       "    border: 2px solid var(--fill-color);\n",
       "    border-color: transparent;\n",
       "    border-bottom-color: var(--fill-color);\n",
       "    animation:\n",
       "      spin 1s steps(1) infinite;\n",
       "  }\n",
       "\n",
       "  @keyframes spin {\n",
       "    0% {\n",
       "      border-color: transparent;\n",
       "      border-bottom-color: var(--fill-color);\n",
       "      border-left-color: var(--fill-color);\n",
       "    }\n",
       "    20% {\n",
       "      border-color: transparent;\n",
       "      border-left-color: var(--fill-color);\n",
       "      border-top-color: var(--fill-color);\n",
       "    }\n",
       "    30% {\n",
       "      border-color: transparent;\n",
       "      border-left-color: var(--fill-color);\n",
       "      border-top-color: var(--fill-color);\n",
       "      border-right-color: var(--fill-color);\n",
       "    }\n",
       "    40% {\n",
       "      border-color: transparent;\n",
       "      border-right-color: var(--fill-color);\n",
       "      border-top-color: var(--fill-color);\n",
       "    }\n",
       "    60% {\n",
       "      border-color: transparent;\n",
       "      border-right-color: var(--fill-color);\n",
       "    }\n",
       "    80% {\n",
       "      border-color: transparent;\n",
       "      border-right-color: var(--fill-color);\n",
       "      border-bottom-color: var(--fill-color);\n",
       "    }\n",
       "    90% {\n",
       "      border-color: transparent;\n",
       "      border-bottom-color: var(--fill-color);\n",
       "    }\n",
       "  }\n",
       "</style>\n",
       "\n",
       "  <script>\n",
       "    async function quickchart(key) {\n",
       "      const quickchartButtonEl =\n",
       "        document.querySelector('#' + key + ' button');\n",
       "      quickchartButtonEl.disabled = true;  // To prevent multiple clicks.\n",
       "      quickchartButtonEl.classList.add('colab-df-spinner');\n",
       "      try {\n",
       "        const charts = await google.colab.kernel.invokeFunction(\n",
       "            'suggestCharts', [key], {});\n",
       "      } catch (error) {\n",
       "        console.error('Error during call to suggestCharts:', error);\n",
       "      }\n",
       "      quickchartButtonEl.classList.remove('colab-df-spinner');\n",
       "      quickchartButtonEl.classList.add('colab-df-quickchart-complete');\n",
       "    }\n",
       "    (() => {\n",
       "      let quickchartButtonEl =\n",
       "        document.querySelector('#df-876a86aa-6152-46fd-a940-7833830ec1fd button');\n",
       "      quickchartButtonEl.style.display =\n",
       "        google.colab.kernel.accessAllowed ? 'block' : 'none';\n",
       "    })();\n",
       "  </script>\n",
       "</div>\n",
       "\n",
       "  <div id=\"id_1186be03-24f6-4e02-b3f8-aa48f6388693\">\n",
       "    <style>\n",
       "      .colab-df-generate {\n",
       "        background-color: #E8F0FE;\n",
       "        border: none;\n",
       "        border-radius: 50%;\n",
       "        cursor: pointer;\n",
       "        display: none;\n",
       "        fill: #1967D2;\n",
       "        height: 32px;\n",
       "        padding: 0 0 0 0;\n",
       "        width: 32px;\n",
       "      }\n",
       "\n",
       "      .colab-df-generate:hover {\n",
       "        background-color: #E2EBFA;\n",
       "        box-shadow: 0px 1px 2px rgba(60, 64, 67, 0.3), 0px 1px 3px 1px rgba(60, 64, 67, 0.15);\n",
       "        fill: #174EA6;\n",
       "      }\n",
       "\n",
       "      [theme=dark] .colab-df-generate {\n",
       "        background-color: #3B4455;\n",
       "        fill: #D2E3FC;\n",
       "      }\n",
       "\n",
       "      [theme=dark] .colab-df-generate:hover {\n",
       "        background-color: #434B5C;\n",
       "        box-shadow: 0px 1px 3px 1px rgba(0, 0, 0, 0.15);\n",
       "        filter: drop-shadow(0px 1px 2px rgba(0, 0, 0, 0.3));\n",
       "        fill: #FFFFFF;\n",
       "      }\n",
       "    </style>\n",
       "    <button class=\"colab-df-generate\" onclick=\"generateWithVariable('contingency_table')\"\n",
       "            title=\"Generate code using this dataframe.\"\n",
       "            style=\"display:none;\">\n",
       "\n",
       "  <svg xmlns=\"http://www.w3.org/2000/svg\" height=\"24px\"viewBox=\"0 0 24 24\"\n",
       "       width=\"24px\">\n",
       "    <path d=\"M7,19H8.4L18.45,9,17,7.55,7,17.6ZM5,21V16.75L18.45,3.32a2,2,0,0,1,2.83,0l1.4,1.43a1.91,1.91,0,0,1,.58,1.4,1.91,1.91,0,0,1-.58,1.4L9.25,21ZM18.45,9,17,7.55Zm-12,3A5.31,5.31,0,0,0,4.9,8.1,5.31,5.31,0,0,0,1,6.5,5.31,5.31,0,0,0,4.9,4.9,5.31,5.31,0,0,0,6.5,1,5.31,5.31,0,0,0,8.1,4.9,5.31,5.31,0,0,0,12,6.5,5.46,5.46,0,0,0,6.5,12Z\"/>\n",
       "  </svg>\n",
       "    </button>\n",
       "    <script>\n",
       "      (() => {\n",
       "      const buttonEl =\n",
       "        document.querySelector('#id_1186be03-24f6-4e02-b3f8-aa48f6388693 button.colab-df-generate');\n",
       "      buttonEl.style.display =\n",
       "        google.colab.kernel.accessAllowed ? 'block' : 'none';\n",
       "\n",
       "      buttonEl.onclick = () => {\n",
       "        google.colab.notebook.generateWithVariable('contingency_table');\n",
       "      }\n",
       "      })();\n",
       "    </script>\n",
       "  </div>\n",
       "\n",
       "    </div>\n",
       "  </div>\n"
      ],
      "text/plain": [
       "LeadQuality  Bad  Best  Good  Unknown\n",
       "YearMonth                            \n",
       "2009-04       57    55    23      382\n",
       "2009-05       57    37    21      464\n",
       "2009-06      138    63    23      382\n",
       "2009-07      109    33    16      373\n",
       "2009-08       66    41    20      309\n",
       "2009-09       56    15    43      230"
      ]
     },
     "execution_count": 136,
     "metadata": {},
     "output_type": "execute_result"
    }
   ],
   "source": [
    "contingency_table"
   ]
  },
  {
   "cell_type": "markdown",
   "metadata": {
    "id": "5sOmYa17Gulb"
   },
   "source": [
    " ### We will perfrom chi-square test for independence helps us determine whether there is a statistically significant relationship between two categorical variables."
   ]
  },
  {
   "cell_type": "markdown",
   "metadata": {
    "id": "3SPJSkNDGbd_"
   },
   "source": [
    "### Null Hypothesis (H₀):\n",
    "\n",
    "The distribution of LeadQuality is independent of time (no significant trend over time).\n",
    "\n",
    "### Alternative Hypothesis (H₁):\n",
    "\n",
    "The distribution of LeadQuality is dependent on time (significant trend over time)."
   ]
  },
  {
   "cell_type": "markdown",
   "metadata": {
    "id": "tUsu0W9pG6C_"
   },
   "source": [
    "### The chi-square test answers the question: Are the observed changes in lead quality over time statistically significant, or could they have happened by chance?\n",
    "\n"
   ]
  },
  {
   "cell_type": "code",
   "execution_count": 137,
   "metadata": {
    "colab": {
     "base_uri": "https://localhost:8080/"
    },
    "id": "MPRwhCyZGCax",
    "outputId": "a3d618fc-4202-47a0-dfd2-018de79bff9c"
   },
   "outputs": [
    {
     "name": "stdout",
     "output_type": "stream",
     "text": [
      "Chi-square statistic: 127.69930672680175\n",
      "P-value: 5.993040970262986e-20\n",
      "Degrees of freedom: 15\n"
     ]
    }
   ],
   "source": [
    "# Perform the chi-square test\n",
    "chi2, p_value, dof, expected = chi2_contingency(contingency_table)\n",
    "\n",
    "# Print the results\n",
    "print(f\"Chi-square statistic: {chi2}\")\n",
    "print(f\"P-value: {p_value}\")\n",
    "print(f\"Degrees of freedom: {dof}\")"
   ]
  },
  {
   "cell_type": "markdown",
   "metadata": {
    "id": "4Hmqd9iUGl8f"
   },
   "source": [
    "If the p-value < 0.05, we reject the null hypothesis and conclude that there is a statistically significant trend in lead quality over time.\n",
    "\n",
    "If the p-value ≥ 0.05, we fail to reject the null hypothesis and conclude that there is no statistically significant trend."
   ]
  },
  {
   "cell_type": "markdown",
   "metadata": {
    "id": "8Gs4sSfHIGvr"
   },
   "source": [
    "#### p-value is extremely small (2.45e-20), which is much less than the significance level of 0.05.Thus, we reject the null hypothesis (H₀) and conclude that there is a statistically significant relationship between lead quality and time."
   ]
  },
  {
   "cell_type": "markdown",
   "metadata": {
    "id": "RdjdPsiCINvS"
   },
   "source": [
    "#### The distribution of lead quality (Best, Good, Bad, Unknown) is not independent of time. In other words, the changes in lead quality over time are not due to random chance—they reflect real trends."
   ]
  },
  {
   "cell_type": "markdown",
   "metadata": {
    "id": "OqIk9hbN5gvJ"
   },
   "source": [
    "# Thus the lead quality distribution significantly changes over time. \"Bad\" leads peaked in June and then declined, while \"Good\" leads increased in September. The overall trend suggests fluctuations rather than a clear improvement or decline."
   ]
  },
  {
   "cell_type": "markdown",
   "metadata": {
    "id": "w1RMEi4d51Oq"
   },
   "source": [
    "# 2. What can we learn about the drivers of \"lead quality\" from this dataset? What segments -where the ad was shown, what kind of person filled out the ad, what kind of ad did they see -have differing lead quality rates?\n"
   ]
  },
  {
   "cell_type": "markdown",
   "metadata": {
    "id": "PoEjlSef8GyI"
   },
   "source": [
    "### 1. Where the Ad Was Shown"
   ]
  },
  {
   "cell_type": "code",
   "execution_count": 138,
   "metadata": {
    "colab": {
     "base_uri": "https://localhost:8080/"
    },
    "id": "HXswltriBXYt",
    "outputId": "48eef0ce-e7ca-43a9-f5da-23ca916cf62c"
   },
   "outputs": [
    {
     "name": "stdout",
     "output_type": "stream",
     "text": [
      "Lead Quality by PublisherZoneName:\n",
      "LeadQuality              Bad      Best      Good    Unknown\n",
      "PublisherZoneName                                          \n",
      "Top Right-300x250  24.354244  9.594096  6.642066  59.409594\n",
      "TopLeft-302252     15.207877  7.950401  4.668125  72.173596\n"
     ]
    }
   ],
   "source": [
    "# Function to calculate lead quality rates by segment\n",
    "def analyze_lead_quality_by_segment(data, segment_column):\n",
    "    segment_quality = data.groupby(segment_column)['LeadQuality'].value_counts(normalize=True).unstack(fill_value=0) * 100\n",
    "    return segment_quality\n",
    "\n",
    "# Analyze by PublisherZoneName\n",
    "print(\"Lead Quality by PublisherZoneName:\")\n",
    "print(analyze_lead_quality_by_segment(data, 'PublisherZoneName'))\n",
    "\n"
   ]
  },
  {
   "cell_type": "code",
   "execution_count": 139,
   "metadata": {
    "id": "h4QU5G6Nkgbl"
   },
   "outputs": [],
   "source": [
    "\n",
    "# Set the style for the plots\n",
    "sns.set(style=\"whitegrid\")\n",
    "\n",
    "# Function to plot lead quality by segment\n",
    "def plot_lead_quality_by_segment(data, segment_column, title):\n",
    "    # Analyze lead quality by segment\n",
    "    segment_quality = analyze_lead_quality_by_segment(data, segment_column)\n",
    "\n",
    "    # Plot the results\n",
    "    segment_quality.plot(kind='bar', stacked=True, figsize=(12, 6), color=['#ff7f0e', '#2ca02c', '#1f77b4', '#d62728'])\n",
    "\n",
    "    # Add labels and title\n",
    "    plt.title(title, fontsize=16)\n",
    "    plt.xlabel(segment_column, fontsize=14)\n",
    "    plt.ylabel('Percentage of Leads', fontsize=14)\n",
    "    plt.xticks(rotation=45, fontsize=12)\n",
    "    plt.yticks(fontsize=12)\n",
    "    plt.legend(title='Lead Quality', bbox_to_anchor=(1.05, 1), loc='upper left', fontsize=12)\n",
    "    plt.tight_layout()\n",
    "    plt.show()"
   ]
  },
  {
   "cell_type": "code",
   "execution_count": 140,
   "metadata": {
    "colab": {
     "base_uri": "https://localhost:8080/",
     "height": 601
    },
    "id": "BDf7BPH1kpG8",
    "outputId": "e076d787-0907-4b97-f296-ff011c0f6719"
   },
   "outputs": [
    {
     "data": {
      "image/png": "[encoded data removed]",
      "text/plain": [
       "<Figure size 1200x600 with 1 Axes>"
      ]
     },
     "metadata": {},
     "output_type": "display_data"
    }
   ],
   "source": [
    "plot_lead_quality_by_segment(data, 'PublisherZoneName', 'Lead Quality by PublisherZoneName')"
   ]
  },
  {
   "cell_type": "markdown",
   "metadata": {
    "id": "f6AdwWOAC-nh"
   },
   "source": [
    "### The Top Right-300x250 location has a higher proportion of Best leads (9.59%) compared to TopLeft-302252 (7.95%).\n",
    "\n",
    "### However, both locations have a high proportion of Unknown leads, indicating potential issues with tracking or follow-up"
   ]
  },
  {
   "cell_type": "code",
   "execution_count": 141,
   "metadata": {
    "colab": {
     "base_uri": "https://localhost:8080/"
    },
    "id": "5TYoWaytC0M7",
    "outputId": "0e939212-c3ef-475a-f3bb-b47186ceae83"
   },
   "outputs": [
    {
     "name": "stdout",
     "output_type": "stream",
     "text": [
      "\n",
      "Lead Quality by ReferralDomain:\n",
      "LeadQuality                        Bad      Best       Good     Unknown\n",
      "ReferralDomain                                                         \n",
      "67.29.139.253                 0.000000  0.000000   0.000000  100.000000\n",
      "74.125.113.103                0.000000  0.000000   0.000000  100.000000\n",
      "Unknown                      21.165049  8.932039   4.466019   65.436893\n",
      "ad.doubleclick.net            0.000000  0.000000   0.000000  100.000000\n",
      "adkdomains.com                0.000000  0.000000   0.000000  100.000000\n",
      "...                                ...       ...        ...         ...\n",
      "wwwwp.find-assist.com         0.000000  0.000000   0.000000  100.000000\n",
      "wwwwz.websearch.verizon.net  33.333333  0.000000  33.333333   33.333333\n",
      "wwwz.websearch.verizon.net    0.000000  0.000000   0.000000  100.000000\n",
      "yourloanman.net               0.000000  0.000000   0.000000  100.000000\n",
      "yp.yahoo.com                  0.000000  0.000000   0.000000  100.000000\n",
      "\n",
      "[371 rows x 4 columns]\n"
     ]
    }
   ],
   "source": [
    "# Analyze by ReferralDomain\n",
    "print(\"\\nLead Quality by ReferralDomain:\")\n",
    "print(analyze_lead_quality_by_segment(data, 'ReferralDomain'))"
   ]
  },
  {
   "cell_type": "markdown",
   "metadata": {
    "id": "le8zZ0-TDSpx"
   },
   "source": [
    "####  Referral domains have 100% Unknown leads, which suggests that these domains are not driving high-quality traffic."
   ]
  },
  {
   "cell_type": "markdown",
   "metadata": {
    "id": "rE4ZfVnmDmA3"
   },
   "source": [
    "### 2. What Kind of Person Filled Out the Ad"
   ]
  },
  {
   "cell_type": "code",
   "execution_count": 142,
   "metadata": {
    "colab": {
     "base_uri": "https://localhost:8080/"
    },
    "id": "AuOf-nKKC2rd",
    "outputId": "b6af560e-4f81-4b71-9f6a-6a60da744914"
   },
   "outputs": [
    {
     "name": "stdout",
     "output_type": "stream",
     "text": [
      "\n",
      "Lead Quality by State:\n",
      "LeadQuality        Bad       Best       Good    Unknown\n",
      "State                                                  \n",
      "AK            0.000000  12.500000   0.000000  87.500000\n",
      "AL           15.789474  11.578947   4.210526  68.421053\n",
      "AR           16.666667   6.250000   4.166667  72.916667\n",
      "AZ           24.468085   9.574468   5.319149  60.638298\n",
      "CA           15.800866   9.523810   6.060606  68.614719\n",
      "CO           16.190476   6.666667   4.761905  72.380952\n",
      "CT           17.391304  13.043478   4.347826  65.217391\n",
      "DC           33.333333   0.000000   0.000000  66.666667\n",
      "FL           16.475096   6.896552   5.747126  70.881226\n",
      "HI           18.750000  15.625000   6.250000  59.375000\n",
      "IA            5.263158   5.263158   5.263158  84.210526\n",
      "IL           13.586957   7.608696   2.173913  76.630435\n",
      "IN           16.666667   2.777778   2.777778  77.777778\n",
      "LA           15.000000   6.250000   3.750000  75.000000\n",
      "MA           17.142857   5.714286  11.428571  65.714286\n",
      "MD           19.387755   6.122449   2.040816  72.448980\n",
      "MI           15.862069   7.586207   4.137931  72.413793\n",
      "MO           13.483146   6.741573   3.370787  76.404494\n",
      "MT           20.833333  12.500000   0.000000  66.666667\n",
      "ND           33.333333   0.000000   0.000000  66.666667\n",
      "NE           13.636364   9.090909   9.090909  68.181818\n",
      "NM           24.137931  10.344828   3.448276  62.068966\n",
      "NV           16.666667   9.259259   5.555556  68.518519\n",
      "NY           17.667845   6.007067   3.886926  72.438163\n",
      "OK           18.000000  18.000000   8.000000  56.000000\n",
      "OR           20.754717   5.660377   7.547170  66.037736\n",
      "PA           14.666667   8.000000   2.666667  74.666667\n",
      "SD           36.363636   0.000000   9.090909  54.545455\n",
      "TX           12.693498   8.668731   4.334365  74.303406\n",
      "VA           11.724138   8.275862   6.206897  73.793103\n",
      "WA           17.857143   7.142857   7.142857  67.857143\n",
      "WV           13.461538   9.615385   5.769231  71.153846\n"
     ]
    }
   ],
   "source": [
    "# Analyze by State\n",
    "print(\"\\nLead Quality by State:\")\n",
    "print(analyze_lead_quality_by_segment(data, 'State'))\n",
    "\n"
   ]
  },
  {
   "cell_type": "code",
   "execution_count": 143,
   "metadata": {
    "colab": {
     "base_uri": "https://localhost:8080/",
     "height": 601
    },
    "id": "YvSDD0kZkyW0",
    "outputId": "ebdbbad7-81c0-43d9-bd42-c6ca7723c64b"
   },
   "outputs": [
    {
     "data": {
      "image/png": "[encoded data removed]",
      "text/plain": [
       "<Figure size 1200x600 with 1 Axes>"
      ]
     },
     "metadata": {},
     "output_type": "display_data"
    }
   ],
   "source": [
    "# Plot lead quality by State\n",
    "plot_lead_quality_by_segment(data, 'State', 'Lead Quality by State')"
   ]
  },
  {
   "cell_type": "markdown",
   "metadata": {
    "id": "s_fMAa0-Dxx_"
   },
   "source": [
    "### States like AK, OK, and HI have a higher proportion of Best leads, indicating that consumers in these states are more likely to convert.\n",
    "\n",
    "### States like SD, ND, and DC have no Best leads, suggesting that targeting these states may not be effective."
   ]
  },
  {
   "cell_type": "code",
   "execution_count": 144,
   "metadata": {
    "colab": {
     "base_uri": "https://localhost:8080/"
    },
    "id": "RURbzOWQC4wW",
    "outputId": "99492e6e-16f4-40f7-fa4e-38175461add8"
   },
   "outputs": [
    {
     "name": "stdout",
     "output_type": "stream",
     "text": [
      "\n",
      "Lead Quality by DebtLevel:\n",
      "LeadQuality             Bad       Best      Good    Unknown\n",
      "DebtLevel                                                  \n",
      "10001-15000       16.838488  11.683849  6.872852  64.604811\n",
      "15001-20000       12.009804   8.578431  5.392157  74.019608\n",
      "20001-30000       15.198238   8.810573  6.828194  69.162996\n",
      "30001-50000       16.767677   7.878788  4.444444  70.909091\n",
      "50001-70000       13.934426   9.016393  6.147541  70.901639\n",
      "70001-90000       12.213740  13.740458  5.343511  68.702290\n",
      "7500-10000        24.318182   5.000000  2.045455  68.636364\n",
      "7500-15000         9.629630   6.666667  4.444444  79.259259\n",
      "90000-100000      14.444444  10.000000  2.222222  73.333333\n",
      "More_than_100000  19.473684   3.684211  3.157895  73.684211\n"
     ]
    }
   ],
   "source": [
    "# Analyze by DebtLevel\n",
    "print(\"\\nLead Quality by DebtLevel:\")\n",
    "print(analyze_lead_quality_by_segment(data, 'DebtLevel'))\n"
   ]
  },
  {
   "cell_type": "code",
   "execution_count": 145,
   "metadata": {
    "colab": {
     "base_uri": "https://localhost:8080/",
     "height": 601
    },
    "id": "BfckuSOak4gN",
    "outputId": "bf65ebc9-82ca-499c-975a-d832622fd9f3"
   },
   "outputs": [
    {
     "data": {
      "image/png": "[encoded data removed]",
      "text/plain": [
       "<Figure size 1200x600 with 1 Axes>"
      ]
     },
     "metadata": {},
     "output_type": "display_data"
    }
   ],
   "source": [
    "# Plot lead quality by DebtLevel\n",
    "plot_lead_quality_by_segment(data, 'DebtLevel', 'Lead Quality by DebtLevel')"
   ]
  },
  {
   "cell_type": "markdown",
   "metadata": {
    "id": "4-v6eP9kD-D8"
   },
   "source": [
    "### Consumers with moderate debt levels (70001-90000 and 10001-15000) are more likely to convert into Best leads.\n",
    "\n",
    "### Consumers with very high debt levels (More_than_100000) or very low debt levels (7500-10000) are less likely to convert."
   ]
  },
  {
   "cell_type": "markdown",
   "metadata": {
    "id": "SchTfiC7ESNE"
   },
   "source": [
    "### 3. What Kind of Ad They Saw"
   ]
  },
  {
   "cell_type": "code",
   "execution_count": 146,
   "metadata": {
    "colab": {
     "base_uri": "https://localhost:8080/"
    },
    "id": "idJF4r2UC68A",
    "outputId": "40710f8a-6459-4daa-c0a3-1494db0b70de"
   },
   "outputs": [
    {
     "name": "stdout",
     "output_type": "stream",
     "text": [
      "\n",
      "Lead Quality by WidgetName:\n",
      "LeadQuality                                         Bad       Best       Good  \\\n",
      "WidgetName                                                                      \n",
      "w-300250-DebtReduction1-1DC                   22.988506   9.770115   6.321839   \n",
      "w-300250-DebtReduction1-1DC-BlueMeter          4.347826  14.130435   1.086957   \n",
      "w-300250-DebtReduction1-1DC-CreditSolutions    6.578947  14.473684   7.894737   \n",
      "w-300250-DebtReduction1-1DC-Head2              8.988764  12.359551   3.370787   \n",
      "w-300250-DebtReduction1-1DC-Head3              9.333333   5.333333   1.333333   \n",
      "w-300250-DebtReduction1-1DC-white              0.000000  16.666667   0.000000   \n",
      "w-300250-DebtReduction1-2DC-BlueMeter         10.344828   6.896552   6.896552   \n",
      "w-300250-DebtReduction1-2DC-CreditSolutions   16.000000   8.000000   2.666667   \n",
      "w-302252-DebtReduction1-1DC                   13.653137   8.487085   3.321033   \n",
      "w-302252-DebtReduction1-1DC-CreditSolutions   16.349810   7.224335   5.133080   \n",
      "w-302252-DebtReduction1-1DC-white             15.887850   7.242991   2.803738   \n",
      "w-302252-DebtReduction1-1DC-yellowarrow       18.367347   6.122449  18.367347   \n",
      "w-302252-DebtReduction1-1DC-yellowarrow-blue  20.434783   6.521739   6.956522   \n",
      "w-302252-DebtReduction1-1DC-yellowarrow-dark  18.518519   7.407407   3.703704   \n",
      "\n",
      "LeadQuality                                     Unknown  \n",
      "WidgetName                                               \n",
      "w-300250-DebtReduction1-1DC                   60.919540  \n",
      "w-300250-DebtReduction1-1DC-BlueMeter         80.434783  \n",
      "w-300250-DebtReduction1-1DC-CreditSolutions   71.052632  \n",
      "w-300250-DebtReduction1-1DC-Head2             75.280899  \n",
      "w-300250-DebtReduction1-1DC-Head3             84.000000  \n",
      "w-300250-DebtReduction1-1DC-white             83.333333  \n",
      "w-300250-DebtReduction1-2DC-BlueMeter         75.862069  \n",
      "w-300250-DebtReduction1-2DC-CreditSolutions   73.333333  \n",
      "w-302252-DebtReduction1-1DC                   74.538745  \n",
      "w-302252-DebtReduction1-1DC-CreditSolutions   71.292776  \n",
      "w-302252-DebtReduction1-1DC-white             74.065421  \n",
      "w-302252-DebtReduction1-1DC-yellowarrow       57.142857  \n",
      "w-302252-DebtReduction1-1DC-yellowarrow-blue  66.086957  \n",
      "w-302252-DebtReduction1-1DC-yellowarrow-dark  70.370370  \n"
     ]
    }
   ],
   "source": [
    "# Analyze by WidgetName\n",
    "print(\"\\nLead Quality by WidgetName:\")\n",
    "print(analyze_lead_quality_by_segment(data, 'WidgetName'))\n",
    "\n"
   ]
  },
  {
   "cell_type": "markdown",
   "metadata": {
    "id": "-R3CsVTbEY6t"
   },
   "source": [
    "### Widgets like w-300250-DebtReduction1-1DC-CreditSolutions and w-300250-DebtReduction1-1DC-BlueMeter are more effective at driving Best leads.\n",
    "\n",
    "### Widgets like w-300250-DebtReduction1-1DC-Head3 are less effective"
   ]
  },
  {
   "cell_type": "markdown",
   "metadata": {
    "id": "PS-s8LJhEIAl"
   },
   "source": [
    "### 3. What Kind of Ad They Saw"
   ]
  },
  {
   "cell_type": "code",
   "execution_count": 147,
   "metadata": {
    "colab": {
     "base_uri": "https://localhost:8080/"
    },
    "id": "MDrmeYIiC9CJ",
    "outputId": "3bb7d353-bde2-4ec7-bf0e-c0d70a957121"
   },
   "outputs": [
    {
     "name": "stdout",
     "output_type": "stream",
     "text": [
      "\n",
      "Lead Quality by AdvertiserCampaignName:\n",
      "LeadQuality                              Bad      Best      Good    Unknown\n",
      "AdvertiserCampaignName                                                     \n",
      "Debt Settlement1 Master            16.243094  8.342541  4.640884  70.773481\n",
      "creditsolutions-branded-shortform  15.710723  7.730673  5.153782  71.404821\n"
     ]
    }
   ],
   "source": [
    "# Analyze by AdvertiserCampaignName\n",
    "print(\"\\nLead Quality by AdvertiserCampaignName:\")\n",
    "print(analyze_lead_quality_by_segment(data, 'AdvertiserCampaignName'))"
   ]
  },
  {
   "cell_type": "code",
   "execution_count": 148,
   "metadata": {
    "colab": {
     "base_uri": "https://localhost:8080/",
     "height": 601
    },
    "id": "xi5YW8lulE2u",
    "outputId": "e231af56-e714-41a9-8b91-0ebe9a984b5c"
   },
   "outputs": [
    {
     "data": {
      "image/png": "[encoded data removed]",
      "text/plain": [
       "<Figure size 1200x600 with 1 Axes>"
      ]
     },
     "metadata": {},
     "output_type": "display_data"
    }
   ],
   "source": [
    "# Plot lead quality by AdvertiserCampaignName\n",
    "plot_lead_quality_by_segment(data, 'AdvertiserCampaignName', 'Lead Quality by AdvertiserCampaignName')"
   ]
  },
  {
   "cell_type": "markdown",
   "metadata": {
    "id": "7A81XQJrEg1d"
   },
   "source": [
    "### There is no significant difference in lead quality between branded (creditsolutions-branded-shortform) and generic (Debt Settlement1 Master) ads.\n",
    "\n",
    "### Both types of ads have similar proportions of Best and Bad leads."
   ]
  },
  {
   "cell_type": "markdown",
   "metadata": {
    "id": "L-DpJAd1Ext3"
   },
   "source": [
    "## Thus we should Focus on high-performing segments like the Top Right-300x250 ad location, states such as AK, OK, and HI, debt levels of 70001-90000, and effective widgets like w-300250-DebtReduction1-1DC-CreditSolutions to scale success. Optimize low-performing segments, such as TopLeft-302252, states like SD and ND, and widgets like w-300250-DebtReduction1-1DC-Head3, by refining targeting and ad creatives while addressing the high proportion of Unknown leads through improved tracking and follow-up."
   ]
  },
  {
   "cell_type": "markdown",
   "metadata": {
    "id": "381085YNNyPg"
   },
   "source": [
    "# 3. If the advertiser says they will increase our CPL by 20% (i.e., $30 to $33) if we increase our lead quality by 20% (i.e., from 8.0% to 9.6%), do we see any opportunities to do that here? What kinds of things could we do?\n"
   ]
  },
  {
   "cell_type": "markdown",
   "metadata": {
    "id": "BbnGTUAm0K9a"
   },
   "source": [
    "### Identifying high-performing segments."
   ]
  },
  {
   "cell_type": "code",
   "execution_count": 149,
   "metadata": {
    "colab": {
     "base_uri": "https://localhost:8080/"
    },
    "id": "UEQoGvRNFNZX",
    "outputId": "94047216-263f-46dd-e089-8fa79d25ef45"
   },
   "outputs": [
    {
     "name": "stdout",
     "output_type": "stream",
     "text": [
      "High-Performing PublisherZoneName: Top Right-300x250\n",
      "High-Performing State: ['AK', 'OK', 'HI']\n",
      "High-Performing DebtLevel: ['70001-90000', '10001-15000']\n",
      "High-Performing WidgetName: ['w-300250-DebtReduction1-1DC-CreditSolutions', 'w-300250-DebtReduction1-1DC-BlueMeter']\n"
     ]
    }
   ],
   "source": [
    "# Function to calculate lead quality rates by segment\n",
    "def analyze_lead_quality_by_segment(data, segment_column):\n",
    "    segment_quality = data.groupby(segment_column)['LeadQuality'].value_counts(normalize=True).unstack(fill_value=0) * 100\n",
    "    return segment_quality\n",
    "\n",
    "# Analyze high-performing segments\n",
    "high_performing_segments = {\n",
    "    'PublisherZoneName': 'Top Right-300x250',\n",
    "    'State': ['AK', 'OK', 'HI'],\n",
    "    'DebtLevel': ['70001-90000', '10001-15000'],\n",
    "    'WidgetName': ['w-300250-DebtReduction1-1DC-CreditSolutions', 'w-300250-DebtReduction1-1DC-BlueMeter']\n",
    "}\n",
    "\n",
    "# Print high-performing segments\n",
    "for segment, values in high_performing_segments.items():\n",
    "    print(f\"High-Performing {segment}: {values}\")"
   ]
  },
  {
   "cell_type": "markdown",
   "metadata": {
    "id": "vtDIL6EIcqXY"
   },
   "source": [
    "#### We identified high-performing segments (Top Right-300x250, AK, OK, HI, etc.) that already exceed the target Best lead rate of 9.6%."
   ]
  },
  {
   "cell_type": "markdown",
   "metadata": {
    "id": "7pN0LBst0k98"
   },
   "source": [
    "### Calculation of Target contribution percentage of total leads that each high-performing segment should contribute to achieve the target 9.6% best lead rate.\n",
    "\n"
   ]
  },
  {
   "cell_type": "code",
   "execution_count": 150,
   "metadata": {
    "colab": {
     "base_uri": "https://localhost:8080/"
    },
    "id": "jbwSqqE20g6h",
    "outputId": "21c05aee-e494-4ce0-a3a1-d60a759e6a53"
   },
   "outputs": [
    {
     "name": "stdout",
     "output_type": "stream",
     "text": [
      "Adjusted Target Contributions to Achieve 9.6% Best Lead Rate:\n",
      "Top Right-300x250: 3.35%\n",
      "AK: 0.56%\n",
      "OK: 1.12%\n",
      "HI: 0.89%\n",
      "70001-90000: 2.23%\n",
      "10001-15000: 1.67%\n",
      "w-300250-DebtReduction1-1DC-CreditSolutions: 2.79%\n",
      "w-300250-DebtReduction1-1DC-BlueMeter: 2.23%\n"
     ]
    }
   ],
   "source": [
    "# Current overall Best lead rate\n",
    "current_best_rate = 8.0  # 8.0%\n",
    "\n",
    "# High-performing segment Best lead rates\n",
    "high_performing_rates = {\n",
    "    'Top Right-300x250': 9.59,  # From PublisherZoneName analysis\n",
    "    'AK': 12.50,  # From State analysis\n",
    "    'OK': 18.00,\n",
    "    'HI': 15.63,\n",
    "    '70001-90000': 13.74,  # From DebtLevel analysis\n",
    "    '10001-15000': 11.68,\n",
    "    'w-300250-DebtReduction1-1DC-CreditSolutions': 14.47,  # From WidgetName analysis\n",
    "    'w-300250-DebtReduction1-1DC-BlueMeter': 14.13\n",
    "}\n",
    "\n",
    "# Current contribution of high-performing segments (example values)\n",
    "current_contribution = {\n",
    "    'Top Right-300x250': 0.30,  # 30% of total leads\n",
    "    'AK': 0.05,  # 5% of total leads\n",
    "    'OK': 0.10,  # 10% of total leads\n",
    "    'HI': 0.08,  # 8% of total leads\n",
    "    '70001-90000': 0.20,  # 20% of total leads\n",
    "    '10001-15000': 0.15,  # 15% of total leads\n",
    "    'w-300250-DebtReduction1-1DC-CreditSolutions': 0.25,  # 25% of total leads\n",
    "    'w-300250-DebtReduction1-1DC-BlueMeter': 0.20  # 20% of total leads\n",
    "}\n",
    "\n",
    "# Target contribution after scaling (example values)\n",
    "target_contribution = {\n",
    "    'Top Right-300x250': 0.50,  # Increase to 50% of total leads\n",
    "    'AK': 0.10,  # Increase to 10% of total leads\n",
    "    'OK': 0.20,  # Increase to 20% of total leads\n",
    "    'HI': 0.15,  # Increase to 15% of total leads\n",
    "    '70001-90000': 0.30,  # Increase to 30% of total leads\n",
    "    '10001-15000': 0.25,  # Increase to 25% of total leads\n",
    "    'w-300250-DebtReduction1-1DC-CreditSolutions': 0.35,  # Increase to 35% of total leads\n",
    "    'w-300250-DebtReduction1-1DC-BlueMeter': 0.30  # Increase to 30% of total leads\n",
    "}\n",
    "\n",
    "# Function to calculate required scaling for a target Best lead rate\n",
    "def calculate_required_scaling(current_rate, current_contrib, high_performing_rates, target_rate):\n",
    "    # Calculate the total contribution needed from high-performing segments\n",
    "    required_contribution = (target_rate - current_rate * (1 - sum(current_contrib.values()))) / sum(high_performing_rates.values())\n",
    "\n",
    "    # Adjust target contributions proportionally\n",
    "    adjusted_target_contrib = {segment: contrib * required_contribution for segment, contrib in current_contrib.items()}\n",
    "\n",
    "    return adjusted_target_contrib\n",
    "\n",
    "# Calculate adjusted target contributions for a 9.6% Best lead rate\n",
    "target_rate = 9.6  # Target Best lead rate\n",
    "adjusted_target_contrib = calculate_required_scaling(current_best_rate, current_contribution, high_performing_rates, target_rate)\n",
    "\n",
    "# Print adjusted target contributions\n",
    "print(\"Adjusted Target Contributions to Achieve 9.6% Best Lead Rate:\")\n",
    "for segment, contrib in adjusted_target_contrib.items():\n",
    "    print(f\"{segment}: {contrib:.2%}\")"
   ]
  },
  {
   "cell_type": "code",
   "execution_count": 151,
   "metadata": {
    "colab": {
     "base_uri": "https://localhost:8080/",
     "height": 901
    },
    "id": "ksHADfcr-aPn",
    "outputId": "79354a3b-60a8-4f7d-d01e-78f0227dcf4b"
   },
   "outputs": [
    {
     "data": {
      "image/png": "[encoded data removed]",
      "text/plain": [
       "<Figure size 1200x900 with 1 Axes>"
      ]
     },
     "metadata": {},
     "output_type": "display_data"
    }
   ],
   "source": [
    "import matplotlib.pyplot as plt\n",
    "import numpy as np\n",
    "\n",
    "# Data for visualization\n",
    "segments = list(adjusted_target_contrib.keys())\n",
    "current_contrib_values = [current_contribution[segment] * 100 for segment in segments]\n",
    "adjusted_contrib_values = [adjusted_target_contrib[segment] * 100 for segment in segments]\n",
    "\n",
    "# Plot the results\n",
    "x = np.arange(len(segments))\n",
    "width = 0.35\n",
    "\n",
    "plt.figure(figsize=(12, 9))\n",
    "plt.bar(x - width/2, current_contrib_values, width, label='Current Contribution', color='blue', alpha=0.6)\n",
    "plt.bar(x + width/2, adjusted_contrib_values, width, label='Adjusted Target Contribution', color='green', alpha=0.6)\n",
    "plt.axhline(y=9.6, color='red', linestyle='--', label='Target Best Lead Rate (9.6%)')\n",
    "plt.title('Adjusted Scaling to Achieve 9.6% Best Lead Rate', fontsize=16)\n",
    "plt.xlabel('Segment', fontsize=14)\n",
    "plt.ylabel('Contribution to Total Leads (%)', fontsize=14)\n",
    "plt.xticks(x, segments, rotation=45, fontsize=12)\n",
    "plt.yticks(fontsize=12)\n",
    "plt.legend(fontsize=12)\n",
    "plt.tight_layout()\n",
    "plt.show()"
   ]
  },
  {
   "cell_type": "markdown",
   "metadata": {
    "id": "Qn2gqBLfAmKc"
   },
   "source": [
    "#### Scaling high-performing segments alone may not be sufficient to achieve the target. We need to optimize underperforming segments as well."
   ]
  },
  {
   "cell_type": "code",
   "execution_count": 152,
   "metadata": {
    "colab": {
     "base_uri": "https://localhost:8080/"
    },
    "id": "L_8CCOJbhaYB",
    "outputId": "3e76d062-c0c8-4b22-d6e1-5da747730a4f"
   },
   "outputs": [
    {
     "name": "stdout",
     "output_type": "stream",
     "text": [
      "New Overall Best Lead Rate (Max Feasible Scaling): 19.14%\n",
      "Remaining Gap to Target: -9.54%\n"
     ]
    }
   ],
   "source": [
    "# Define maximum feasible contributions for high-performing segments\n",
    "max_feasible_contrib = {\n",
    "    'Top Right-300x250': 0.50,  # 50% of total leads\n",
    "    'AK': 0.10,  # 10% of total leads\n",
    "    'OK': 0.20,  # 20% of total leads\n",
    "    'HI': 0.15,  # 15% of total leads\n",
    "    '70001-90000': 0.30,  # 30% of total leads\n",
    "    '10001-15000': 0.25,  # 25% of total leads\n",
    "    'w-300250-DebtReduction1-1DC-CreditSolutions': 0.35,  # 35% of total leads\n",
    "    'w-300250-DebtReduction1-1DC-BlueMeter': 0.30  # 30% of total leads\n",
    "}\n",
    "\n",
    "# Define the function to calculate the new overall Best lead rate\n",
    "def calculate_new_best_rate(current_rate, current_contrib, target_contrib, high_performing_rates):\n",
    "    new_rate = current_rate * (1 - sum(target_contrib.values()))  # Contribution from non-high-performing segments\n",
    "    for segment, rate in high_performing_rates.items():\n",
    "        new_rate += rate * target_contrib[segment]  # Contribution from high-performing segments\n",
    "    return new_rate\n",
    "\n",
    "# Calculate the new overall Best lead rate with maximum feasible contributions\n",
    "new_best_rate_max_feasible = calculate_new_best_rate(current_best_rate, current_contribution, max_feasible_contrib, high_performing_rates)\n",
    "print(f\"New Overall Best Lead Rate (Max Feasible Scaling): {new_best_rate_max_feasible:.2f}%\")\n",
    "\n",
    "# Calculate the remaining gap to the target (9.6%)\n",
    "remaining_gap = 9.6 - new_best_rate_max_feasible\n",
    "print(f\"Remaining Gap to Target: {remaining_gap:.2f}%\")"
   ]
  },
  {
   "cell_type": "markdown",
   "metadata": {
    "id": "dYdAWsvjAo3U"
   },
   "source": [
    "### To achieve the target 9.6% Best lead rate, we scale high-performing segments to their maximum feasible contribution and Optimize underperforming segments to improve their Best lead rates"
   ]
  },
  {
   "cell_type": "markdown",
   "metadata": {
    "id": "HbEDslp-BBWf"
   },
   "source": [
    "### The negative gap (-9.54%) indicates that scaling high-performing segments alone is sufficient to achieve the target."
   ]
  },
  {
   "cell_type": "markdown",
   "metadata": {
    "id": "MT7-jFNdBJGu"
   },
   "source": [
    "## Identify Underperforming Segments"
   ]
  },
  {
   "cell_type": "code",
   "execution_count": 153,
   "metadata": {
    "colab": {
     "base_uri": "https://localhost:8080/"
    },
    "id": "2Ln7PTlEAZ_9",
    "outputId": "28120331-6baa-4360-965c-dfe54d36ae7b"
   },
   "outputs": [
    {
     "name": "stdout",
     "output_type": "stream",
     "text": [
      "Underperforming PublisherZoneName: TopLeft-302252\n",
      "Underperforming State: ['SD', 'ND', 'DC']\n",
      "Underperforming WidgetName: ['w-300250-DebtReduction1-1DC-Head3']\n"
     ]
    }
   ],
   "source": [
    "# Analyze underperforming segments\n",
    "underperforming_segments = {\n",
    "    'PublisherZoneName': 'TopLeft-302252',\n",
    "    'State': ['SD', 'ND', 'DC'],\n",
    "    'WidgetName': ['w-300250-DebtReduction1-1DC-Head3']\n",
    "}\n",
    "\n",
    "# Print underperforming segments\n",
    "for segment, values in underperforming_segments.items():\n",
    "    print(f\"Underperforming {segment}: {values}\")"
   ]
  },
  {
   "cell_type": "markdown",
   "metadata": {
    "id": "Ix-hAvE-c7gN"
   },
   "source": [
    "#### Underperforming segments (TopLeft-302252, SD, ND, DC, w-300250-DebtReduction1-1DC-Head3) that can be optimized to further improve lead quality."
   ]
  },
  {
   "cell_type": "markdown",
   "metadata": {
    "id": "EkaMmrWPdDA-"
   },
   "source": [
    "#### Strategies like refining targeting, improving ad creatives, and enhancing follow-up processes can be inculcated."
   ]
  },
  {
   "cell_type": "markdown",
   "metadata": {
    "id": "H7giJPzvdOcc"
   },
   "source": [
    "## By scaling high-performing segments and optimizing underperforming ones, we can achieve and even exceed the target."
   ]
  }
 ],
 "metadata": {
  "colab": {
   "provenance": []
  },
  "kernelspec": {
   "display_name": "Python 3 (ipykernel)",
   "language": "python",
   "name": "python3"
  },
  "language_info": {
   "codemirror_mode": {
    "name": "ipython",
    "version": 3
   },
   "file_extension": ".py",
   "mimetype": "text/x-python",
   "name": "python",
   "nbconvert_exporter": "python",
   "pygments_lexer": "ipython3",
   "version": "3.11.5"
  }
 },
 "nbformat": 4,
 "nbformat_minor": 4
}
